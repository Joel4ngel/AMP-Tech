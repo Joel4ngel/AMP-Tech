{
  "nbformat": 4,
  "nbformat_minor": 0,
  "metadata": {
    "celltoolbar": "Edit Metadata",
    "kernelspec": {
      "display_name": "Python 3",
      "language": "python",
      "name": "python3"
    },
    "language_info": {
      "codemirror_mode": {
        "name": "ipython",
        "version": 3
      },
      "file_extension": ".py",
      "mimetype": "text/x-python",
      "name": "python",
      "nbconvert_exporter": "python",
      "pygments_lexer": "ipython3",
      "version": "3.7.6"
    },
    "toc": {
      "base_numbering": 1,
      "nav_menu": {},
      "number_sections": true,
      "sideBar": true,
      "skip_h1_title": false,
      "title_cell": "Table of Contents",
      "title_sidebar": "Contents",
      "toc_cell": false,
      "toc_position": {},
      "toc_section_display": true,
      "toc_window_display": false
    },
    "varInspector": {
      "cols": {
        "lenName": 16,
        "lenType": 16,
        "lenVar": 40
      },
      "kernels_config": {
        "python": {
          "delete_cmd_postfix": "",
          "delete_cmd_prefix": "del ",
          "library": "var_list.py",
          "varRefreshCmd": "print(var_dic_list())"
        },
        "r": {
          "delete_cmd_postfix": ") ",
          "delete_cmd_prefix": "rm(",
          "library": "var_list.r",
          "varRefreshCmd": "cat(var_dic_list()) "
        }
      },
      "types_to_exclude": [
        "module",
        "function",
        "builtin_function_or_method",
        "instance",
        "_Feature"
      ],
      "window_display": false
    },
    "colab": {
      "name": "Discovering Craters in Mars_v2.ipynb",
      "provenance": [],
      "include_colab_link": true
    }
  },
  "cells": [
    {
      "cell_type": "markdown",
      "metadata": {
        "id": "view-in-github",
        "colab_type": "text"
      },
      "source": [
        "<a href=\"https://colab.research.google.com/github/Joel4ngel/AMP-Tech/blob/master/Discovering_Craters_in_Mars_v2.ipynb\" target=\"_parent\"><img src=\"https://colab.research.google.com/assets/colab-badge.svg\" alt=\"Open In Colab\"/></a>"
      ]
    },
    {
      "cell_type": "markdown",
      "metadata": {
        "deletable": false,
        "nbgrader": {
          "grade": false,
          "locked": true,
          "solution": false
        },
        "id": "syVEK97AoH91"
      },
      "source": [
        "# Discovering Craters in Mars\n",
        "\n",
        "This problem tests whether you can read an abstract description of a \"new\" algorithm (or rather, one which most of you might not have seen before) and implement it.\n",
        "\n",
        "> This problem has six (6) exercises and is worth a total of ten (10) points.\n",
        "\n",
        "The algorithm is called [DBSCAN](https://en.wikipedia.org/wiki/DBSCAN), which is short for _density-based spatial clustering for applications with noise_. It addresses a limitation of $k$-means clustering, as described below.\n",
        "\n",
        "Although there are existing implementations for Python, in this notebook we are asking you to build it from scratch, albeit using a lot of scaffolding that we have provided."
      ]
    },
    {
      "cell_type": "code",
      "metadata": {
        "colab": {
          "base_uri": "https://localhost:8080/"
        },
        "id": "U92VlptAvi3r",
        "outputId": "bfeea203-e3b7-411e-aa95-922bc3a45883"
      },
      "source": [
        "from google.colab import drive\n",
        "drive.mount('/content/drive')"
      ],
      "execution_count": 1,
      "outputs": [
        {
          "output_type": "stream",
          "text": [
            "Mounted at /content/drive\n"
          ],
          "name": "stdout"
        }
      ]
    },
    {
      "cell_type": "code",
      "metadata": {
        "colab": {
          "base_uri": "https://localhost:8080/"
        },
        "id": "jAxCz7DDwDkA",
        "outputId": "c8662bb9-f803-4a4c-d005-4b21797bde41"
      },
      "source": [
        "cd drive/My Drive/CECAT"
      ],
      "execution_count": 3,
      "outputs": [
        {
          "output_type": "stream",
          "text": [
            "/content/drive/My Drive/CECAT\n"
          ],
          "name": "stdout"
        }
      ]
    },
    {
      "cell_type": "markdown",
      "metadata": {
        "deletable": false,
        "editable": false,
        "nbgrader": {
          "grade": false,
          "locked": true,
          "solution": false
        },
        "id": "Dm5Swn-0oH-V"
      },
      "source": [
        "## Setup\n",
        "\n",
        "Here are the modules you will need for this problem."
      ]
    },
    {
      "cell_type": "code",
      "metadata": {
        "id": "3IuIW0FdoH-X"
      },
      "source": [
        "from IPython.display import display\n",
        "\n",
        "import numpy as np\n",
        "import pandas as pd\n",
        "import seaborn as sns\n",
        "\n",
        "%matplotlib inline\n",
        "import matplotlib.pyplot as plt\n",
        "\n",
        "# Adapted from: https://blog.dominodatalab.com/topology-and-density-based-clustering/\n",
        "def make_crater (inner_rad=4, outer_rad=4.5, donut_len=2, inner_pts=1000, outer_pts=500, label=False):\n",
        "    # Make the inner core\n",
        "    radius_core = inner_rad*np.random.random (inner_pts)\n",
        "    direction_core = 2*np.pi*np.random.random (size=inner_pts)\n",
        "\n",
        "    # Simulate inner core points\n",
        "    core_x = radius_core*np.cos (direction_core)\n",
        "    core_y = radius_core*np.sin (direction_core)\n",
        "    crater_core = pd.DataFrame ({'x_1': core_x, 'x_2': core_y})\n",
        "    if label: crater_core['label'] = 0\n",
        "\n",
        "    # Make the outer ring\n",
        "    radius_ring = outer_rad + donut_len*np.random.random(outer_pts)\n",
        "    direction_ring = 2*np.pi*np.random.random(size = outer_pts)\n",
        "\n",
        "    # Simulate ring points\n",
        "    ring_x = radius_ring*np.cos(direction_ring)\n",
        "    ring_y = radius_ring*np.sin(direction_ring)\n",
        "    crater_ring = pd.DataFrame ({'x_1': ring_x, 'x_2': ring_y})\n",
        "    if label: crater_ring['label'] = 1\n",
        "\n",
        "    return pd.concat ([crater_core, crater_ring])\n",
        "\n",
        "def make_scatter_plot (df, x=\"x_1\", y=\"x_2\", hue=\"label\",\n",
        "                       palette={0: \"red\", 1: \"olive\", 2: \"blue\", 3: \"green\"},\n",
        "                       size=5,\n",
        "                       centers=None):\n",
        "    if (hue is not None) and (hue in df.columns):\n",
        "        sns.lmplot (x=x, y=y, hue=hue, data=df, palette=palette,\n",
        "                    fit_reg=False)\n",
        "    else:\n",
        "        sns.lmplot (x=x, y=y, data=df, fit_reg=False)\n",
        "\n",
        "    if centers is not None:\n",
        "        cc = [palette[0], palette[1]] if len(centers) > 1 else [palette[0]]\n",
        "        plt.scatter (centers[:,0], centers[:,1],\n",
        "                     marker=u'*', s=500, c=cc)\n",
        "\n",
        "def make_scatter_plot2 (df, x=\"x_1\", y=\"x_2\", hue=\"label\", size=5):\n",
        "    if (hue is not None) and (hue in df.columns):\n",
        "        sns.lmplot (x=x, y=y, hue=hue, data=df,\n",
        "                    fit_reg=False)\n",
        "    else:\n",
        "        sns.lmplot (x=x, y=y, data=df, fit_reg=False)"
      ],
      "execution_count": 5,
      "outputs": []
    },
    {
      "cell_type": "markdown",
      "metadata": {
        "deletable": false,
        "nbgrader": {
          "grade": false,
          "locked": true,
          "solution": false
        },
        "id": "u32rN_cuoH-c"
      },
      "source": [
        "## Loading the data\n",
        "\n",
        "We will work work with a synthetic data set that is an especially bad case for $k$-means. It's sometimes called the \"crater\" data because of its shape. The data points are stored in a file named `crater.csv`.\n"
      ]
    },
    {
      "cell_type": "code",
      "metadata": {
        "colab": {
          "base_uri": "https://localhost:8080/",
          "height": 34
        },
        "id": "gXjIZv4goH-e",
        "outputId": "99fd7adf-a8f8-4842-95e1-33745acaf782"
      },
      "source": [
        "def fn(fn_base, dirname='./'): # `dirname` set by default to the path you need in Vocareum\n",
        "    return '{}{}'.format(dirname, fn_base)\n",
        "\n",
        "# Demo:\n",
        "fn('crater.csv')"
      ],
      "execution_count": 7,
      "outputs": [
        {
          "output_type": "execute_result",
          "data": {
            "application/vnd.google.colaboratory.intrinsic+json": {
              "type": "string"
            },
            "text/plain": [
              "'./crater.csv'"
            ]
          },
          "metadata": {
            "tags": []
          },
          "execution_count": 7
        }
      ]
    },
    {
      "cell_type": "markdown",
      "metadata": {
        "deletable": false,
        "editable": false,
        "nbgrader": {
          "grade": false,
          "locked": true,
          "solution": false
        },
        "id": "DbIBacVfoH-f"
      },
      "source": [
        "**Exercise 0** (1 point). Start by reading the data into a Pandas data frame. The data is stored locally within this assignment in a file called `crater.csv`. Store your data frame in a variable named `crater`."
      ]
    },
    {
      "cell_type": "code",
      "metadata": {
        "nbgrader": {
          "grade": false,
          "grade_id": "load_crater",
          "locked": false,
          "solution": true
        },
        "colab": {
          "base_uri": "https://localhost:8080/",
          "height": 275
        },
        "id": "JuQi9pdXoH-h",
        "outputId": "61f39e80-5315-407f-d082-da1f50168cb8"
      },
      "source": [
        "###\n",
        "### YOUR CODE HERE\n",
        "\n",
        "crater = pd.read_csv('crater.csv')\n",
        "display (crater.head (3))\n",
        "\n",
        "print (\"...\")\n",
        "display (crater.tail (3))\n",
        "###"
      ],
      "execution_count": 11,
      "outputs": [
        {
          "output_type": "display_data",
          "data": {
            "text/html": [
              "<div>\n",
              "<style scoped>\n",
              "    .dataframe tbody tr th:only-of-type {\n",
              "        vertical-align: middle;\n",
              "    }\n",
              "\n",
              "    .dataframe tbody tr th {\n",
              "        vertical-align: top;\n",
              "    }\n",
              "\n",
              "    .dataframe thead th {\n",
              "        text-align: right;\n",
              "    }\n",
              "</style>\n",
              "<table border=\"1\" class=\"dataframe\">\n",
              "  <thead>\n",
              "    <tr style=\"text-align: right;\">\n",
              "      <th></th>\n",
              "      <th>x_1</th>\n",
              "      <th>x_2</th>\n",
              "      <th>kmeans_label</th>\n",
              "    </tr>\n",
              "  </thead>\n",
              "  <tbody>\n",
              "    <tr>\n",
              "      <th>0</th>\n",
              "      <td>-1.719159</td>\n",
              "      <td>-2.500154</td>\n",
              "      <td>1</td>\n",
              "    </tr>\n",
              "    <tr>\n",
              "      <th>1</th>\n",
              "      <td>-3.002477</td>\n",
              "      <td>-4.801853</td>\n",
              "      <td>1</td>\n",
              "    </tr>\n",
              "    <tr>\n",
              "      <th>2</th>\n",
              "      <td>0.469441</td>\n",
              "      <td>1.591334</td>\n",
              "      <td>0</td>\n",
              "    </tr>\n",
              "  </tbody>\n",
              "</table>\n",
              "</div>"
            ],
            "text/plain": [
              "        x_1       x_2  kmeans_label\n",
              "0 -1.719159 -2.500154             1\n",
              "1 -3.002477 -4.801853             1\n",
              "2  0.469441  1.591334             0"
            ]
          },
          "metadata": {
            "tags": []
          }
        },
        {
          "output_type": "stream",
          "text": [
            "...\n"
          ],
          "name": "stdout"
        },
        {
          "output_type": "display_data",
          "data": {
            "text/html": [
              "<div>\n",
              "<style scoped>\n",
              "    .dataframe tbody tr th:only-of-type {\n",
              "        vertical-align: middle;\n",
              "    }\n",
              "\n",
              "    .dataframe tbody tr th {\n",
              "        vertical-align: top;\n",
              "    }\n",
              "\n",
              "    .dataframe thead th {\n",
              "        text-align: right;\n",
              "    }\n",
              "</style>\n",
              "<table border=\"1\" class=\"dataframe\">\n",
              "  <thead>\n",
              "    <tr style=\"text-align: right;\">\n",
              "      <th></th>\n",
              "      <th>x_1</th>\n",
              "      <th>x_2</th>\n",
              "      <th>kmeans_label</th>\n",
              "    </tr>\n",
              "  </thead>\n",
              "  <tbody>\n",
              "    <tr>\n",
              "      <th>1497</th>\n",
              "      <td>0.278229</td>\n",
              "      <td>0.162659</td>\n",
              "      <td>1</td>\n",
              "    </tr>\n",
              "    <tr>\n",
              "      <th>1498</th>\n",
              "      <td>-0.939762</td>\n",
              "      <td>3.127528</td>\n",
              "      <td>0</td>\n",
              "    </tr>\n",
              "    <tr>\n",
              "      <th>1499</th>\n",
              "      <td>-1.506346</td>\n",
              "      <td>5.179035</td>\n",
              "      <td>0</td>\n",
              "    </tr>\n",
              "  </tbody>\n",
              "</table>\n",
              "</div>"
            ],
            "text/plain": [
              "           x_1       x_2  kmeans_label\n",
              "1497  0.278229  0.162659             1\n",
              "1498 -0.939762  3.127528             0\n",
              "1499 -1.506346  5.179035             0"
            ]
          },
          "metadata": {
            "tags": []
          }
        }
      ]
    },
    {
      "cell_type": "code",
      "metadata": {
        "deletable": false,
        "editable": false,
        "nbgrader": {
          "grade": true,
          "grade_id": "load_crater_test",
          "locked": true,
          "points": 1,
          "solution": false
        },
        "colab": {
          "base_uri": "https://localhost:8080/",
          "height": 417
        },
        "id": "pJ486hfWoH-j",
        "outputId": "4f21a3b6-1d89-48ef-ea58-65deffe77a5c"
      },
      "source": [
        "assert len (crater) == 1500\n",
        "assert set (crater.columns) == set (['x_1', 'x_2', 'kmeans_label'])\n",
        "\n",
        "with open (fn('crater_counts.txt'), 'rt') as fp:\n",
        "    true_counts = [int (c) for c in fp.read ().split (',')]\n",
        "    assert sum (crater['kmeans_label'] == 0) == true_counts[0]\n",
        "    assert sum (crater['kmeans_label'] == 1) == true_counts[1]\n",
        "    \n",
        "make_scatter_plot (crater, hue='kmeans_label')\n",
        "\n",
        "print (\"\\n(Passed!)\")"
      ],
      "execution_count": 86,
      "outputs": [
        {
          "output_type": "stream",
          "text": [
            "\n",
            "(Passed!)\n"
          ],
          "name": "stdout"
        },
        {
          "output_type": "display_data",
          "data": {
            "image/png": "[encoded data removed]",
            "text/plain": [
              "<Figure size 436.5x360 with 1 Axes>"
            ]
          },
          "metadata": {
            "tags": [],
            "needs_background": "light"
          }
        }
      ]
    },
    {
      "cell_type": "markdown",
      "metadata": {
        "deletable": false,
        "editable": false,
        "nbgrader": {
          "grade": false,
          "locked": true,
          "solution": false
        },
        "id": "_RyoW79UoH-k"
      },
      "source": [
        "The testing code plots these data points, which are 2-D. The colors show the clusters computed by $k$-means for $k=2$. Notice that the \"natural\" structure is, arguably, a dense ball in the middle and a ring (donut) on the outside. However, $k$-means instead split the points about an arbitrary line that cuts through the middle of the points.\n",
        "\n",
        "Indeed, this fact is one of the limitations of $k$-means: it works well when you know the value of $k$ and the $k$ clusters come from Gaussian distributions of similar shape and size (and, therefore, density). However, if you don't know $k$ or there is non-uniform shape and density among the clusters---or some other grouping, as above---then $k$-means does not work well (qualitatively)."
      ]
    },
    {
      "cell_type": "markdown",
      "metadata": {
        "deletable": false,
        "editable": false,
        "nbgrader": {
          "grade": false,
          "locked": true,
          "solution": false
        },
        "id": "qbaD5NQOoH-m"
      },
      "source": [
        "## Elements of DBSCAN\n",
        "\n",
        "The DBSCAN algorithm takes a different approach. Rather than having to provide the number of clusters, $k$, you define parameters related to _neighborhoods_ and _target density_. Let's see how DBSCAN works by building it from the ground up."
      ]
    },
    {
      "cell_type": "markdown",
      "metadata": {
        "deletable": false,
        "editable": false,
        "nbgrader": {
          "grade": false,
          "locked": true,
          "solution": false
        },
        "id": "aXFJdnZwoH-n"
      },
      "source": [
        "### Neighborhoods\n",
        "\n",
        "The first important concept in DBSCAN is that of an _$\\epsilon$-neighborhood_.\n",
        "\n",
        "Consider any point $p$. The $\\varepsilon$-neighborhood of $p$ is the set of all points within a distance of $\\varepsilon$ from $p$. That is, if $\\{\\hat{x}_0, \\hat{x}_1, \\ldots, \\hat{x}_{m-1}\\}$ is a collection of $m$ data points, then the $\\varepsilon$-neighborhood centered at $p$ is\n",
        "\n",
        "$$\n",
        "  N_{\\varepsilon}(p) = \\{\\hat{x}_i : \\|\\hat{x}_i - p\\|_2 \\leq \\varepsilon\\},\n",
        "$$\n",
        "\n",
        "where the measure of distance is Euclidean (i.e., the two-norm). Notice that this definition would _include_ the point $p$ if $p$ is one of the data points."
      ]
    },
    {
      "cell_type": "markdown",
      "metadata": {
        "deletable": false,
        "editable": false,
        "nbgrader": {
          "grade": false,
          "locked": true,
          "solution": false
        },
        "id": "YJ8Xnqc4oH-o"
      },
      "source": [
        "**Exercise 1** (1 point). Implement a function that computes the $\\epsilon$-neighborhood of $p$ for a data matrix of points, $X$, defined by our usual convention as\n",
        "\n",
        "$$\n",
        "  X = \\left( \\begin{array}{c} \\hat{x}_0^T \\\\ \\hat{x}_1^T \\\\ \\vdots \\\\ \\hat{x}_{m-1}^T \\end{array} \\right).\n",
        "$$\n",
        "\n",
        "In particular, complete the function named `region_query(p, eps, X)` below. Its inputs are:\n",
        "\n",
        "- `p[:d]`: The query point, of dimension `d`.\n",
        "- `eps`: The size of the ball around `p` to search.\n",
        "- `X[:m, :d]`: The set of points, i.e., data matrix.\n",
        "\n",
        "It should return a boolean Numpy array `adj[:m]` with one entry per point (i.e., per row of `X`). The entry `adj[i]` should be `True` only if `X[i, :]` lies within the `eps`-sized ball centered at `p`.\n",
        "\n",
        "> _Hint:_ There is a one-line solution of the form, `return (boolean array expression)`."
      ]
    },
    {
      "cell_type": "code",
      "metadata": {
        "nbgrader": {
          "grade": false,
          "grade_id": "region_query",
          "locked": false,
          "solution": true
        },
        "id": "BAVnvN9boH-r"
      },
      "source": [
        "def region_query (p, eps, X):\n",
        "    # These lines check that the inputs `p` and `X` have\n",
        "    # the right shape.\n",
        "    _, dim = X.shape #m:filas, dim:columnas\n",
        "    assert (p.shape == (dim,)) or (p.shape == (1, dim)) or (p.shape == (dim, 1))\n",
        "    \n",
        "    ###\n",
        "    ### YOUR CODE HERE\n",
        "    return np.linalg.norm(X-p,axis=1)<=eps\n",
        "   \n",
        "    ###\n",
        "   \n"
      ],
      "execution_count": 101,
      "outputs": []
    },
    {
      "cell_type": "markdown",
      "metadata": {
        "deletable": false,
        "editable": false,
        "nbgrader": {
          "grade": false,
          "locked": true,
          "solution": false
        },
        "id": "ry-70GELoH-s"
      },
      "source": [
        "Here is the test code for `region_query()`. In addition to sanity-checking your solution, it plots the original points, a query point (marked by a red star), and highlights all points in an $\\varepsilon$-neighborhood computed by your function so you can visually verify the result. (In this test, $p=(-0.5, 1.2)$ and $\\varepsilon=1.0$.)"
      ]
    },
    {
      "cell_type": "code",
      "metadata": {
        "deletable": false,
        "nbgrader": {
          "grade": true,
          "grade_id": "region_query_test",
          "locked": true,
          "points": 1,
          "solution": false
        },
        "colab": {
          "base_uri": "https://localhost:8080/",
          "height": 417
        },
        "id": "Sybr8QLeoH-t",
        "outputId": "1204ac22-e9bc-41fc-c1a4-07da820e5e04"
      },
      "source": [
        "X = crater[['x_1', 'x_2']].values\n",
        "p = np.array ([-0.5, 1.2])\n",
        "in_region = region_query (p, 1.0, X)\n",
        "\n",
        "crater_ball = crater.copy ()\n",
        "crater_ball['label'] = in_region\n",
        "make_scatter_plot (crater_ball, centers=p[np.newaxis])\n",
        "\n",
        "with open ('region_query_soln.txt', 'rt') as fp:\n",
        "    assert int (fp.read ()) == sum (in_region)\n",
        "\n",
        "print (\"\\n(Passed!)\")"
      ],
      "execution_count": 106,
      "outputs": [
        {
          "output_type": "stream",
          "text": [
            "\n",
            "(Passed!)\n"
          ],
          "name": "stdout"
        },
        {
          "output_type": "display_data",
          "data": {
            "image/png": "[encoded data removed]",
            "text/plain": [
              "<Figure size 421.25x360 with 1 Axes>"
            ]
          },
          "metadata": {
            "tags": [],
            "needs_background": "light"
          }
        }
      ]
    },
    {
      "cell_type": "markdown",
      "metadata": {
        "deletable": false,
        "editable": false,
        "nbgrader": {
          "grade": false,
          "locked": true,
          "solution": false
        },
        "id": "PZ3BNn7WoH-v"
      },
      "source": [
        "**Exercise 2** (1 point). Suppose you are given a vector `y[:]` of boolean (`True` and `False`) values, such as the one computed above. Write a function named `index_set(y)` that returns the index locations of all of `y`'s `True` elements. **Your function must return these index values as a Python set.**"
      ]
    },
    {
      "cell_type": "code",
      "metadata": {
        "nbgrader": {
          "grade": false,
          "grade_id": "indices",
          "locked": false,
          "solution": true
        },
        "colab": {
          "base_uri": "https://localhost:8080/"
        },
        "id": "92wNaSPToH-w",
        "outputId": "5ddec80d-4689-411b-a3e5-f2a19cfe7b24"
      },
      "source": [
        "def index_set (y):\n",
        "    \"\"\"\n",
        "    Given a boolean vector, this function returns\n",
        "    the indices of all True elements.\n",
        "    \"\"\"\n",
        "    assert len (y.shape) == 1\n",
        "\n",
        "    ###\n",
        "    ### YOUR CODE HERE\n",
        "    index = np.where (y)[0]\n",
        "    return set (index)\n",
        "    ###\n",
        "  \n",
        "y_test = np.array ([True, False, False, True, False, True, True, True, False])\n",
        "print(index_set (y_test))      "
      ],
      "execution_count": 166,
      "outputs": [
        {
          "output_type": "stream",
          "text": [
            "{0, 3, 5, 6, 7}\n"
          ],
          "name": "stdout"
        }
      ]
    },
    {
      "cell_type": "code",
      "metadata": {
        "deletable": false,
        "editable": false,
        "nbgrader": {
          "grade": true,
          "grade_id": "indices_test",
          "locked": true,
          "points": 1,
          "solution": false
        },
        "colab": {
          "base_uri": "https://localhost:8080/"
        },
        "id": "sKZYGUtyoH-y",
        "outputId": "25a96883-05a9-4ad1-aa24-794f7ecc1988"
      },
      "source": [
        "y_test = np.array ([True, False, False, True, False, True, True, True, False])\n",
        "i_soln = set ([0, 3, 5, 6, 7])\n",
        "\n",
        "i_test = index_set (y_test)\n",
        "assert type (i_test) is set\n",
        "assert len (i_test) == len (i_soln)\n",
        "assert i_test == i_soln\n",
        "\n",
        "print (\"\\n(Passed!)\")\n"
      ],
      "execution_count": 167,
      "outputs": [
        {
          "output_type": "stream",
          "text": [
            "\n",
            "(Passed!)\n"
          ],
          "name": "stdout"
        }
      ]
    },
    {
      "cell_type": "markdown",
      "metadata": {
        "deletable": false,
        "editable": false,
        "nbgrader": {
          "grade": false,
          "locked": true,
          "solution": false
        },
        "id": "2l3MIdIHoH-z"
      },
      "source": [
        "**Exercise 3** (1 point). Given a value for $\\varepsilon$ and a data matrix $X$ of points, complete the function below so that it determines the neighborhood of each point.\n",
        "\n",
        "Your function,\n",
        "\n",
        "```python\n",
        "    def find_neighbors(eps, X[:m, :]):\n",
        "        ...\n",
        "```\n",
        "\n",
        "should return a Python list `neighbors[:m]` such that `neighbors[i]` is the index set of neighbors of point `X[i, :]`."
      ]
    },
    {
      "cell_type": "code",
      "metadata": {
        "colab": {
          "base_uri": "https://localhost:8080/"
        },
        "id": "sYTH65exynCG",
        "outputId": "78740956-64ee-42bd-b4da-fc2e04118088"
      },
      "source": [
        "X.shape[0]"
      ],
      "execution_count": 157,
      "outputs": [
        {
          "output_type": "execute_result",
          "data": {
            "text/plain": [
              "1500"
            ]
          },
          "metadata": {
            "tags": []
          },
          "execution_count": 157
        }
      ]
    },
    {
      "cell_type": "code",
      "metadata": {
        "nbgrader": {
          "grade": false,
          "grade_id": "find_neighbors",
          "locked": false,
          "solution": true
        },
        "id": "K6wgeCOIoH-z"
      },
      "source": [
        "def find_neighbors (eps, X):\n",
        "    m, d = X.shape\n",
        "    neighbors = [] # Empty list to start\n",
        "    ###\n",
        "    ### YOUR CODE HERE\n",
        "    for i in range(X.shape[0]):\n",
        "      j= index_set(region_query(X[i, :], eps, X))\n",
        "      neighbors.append(j)\n",
        "    ###        \n",
        "    assert len (neighbors) == m\n",
        "    return neighbors"
      ],
      "execution_count": 169,
      "outputs": []
    },
    {
      "cell_type": "code",
      "metadata": {
        "deletable": false,
        "editable": false,
        "nbgrader": {
          "grade": true,
          "grade_id": "find_neighbors_test",
          "locked": true,
          "points": 1,
          "solution": false
        },
        "colab": {
          "base_uri": "https://localhost:8080/"
        },
        "id": "6xLzvf5hoH-0",
        "outputId": "4072e434-f69a-4ecd-a129-7db60726c2dd"
      },
      "source": [
        "with open (fn('find_neighbors_soln.csv'), 'rt') as fp:\n",
        "    neighbors = find_neighbors (0.25, X)\n",
        "    for i, n_i in enumerate (neighbors):\n",
        "        j_, c_j_ = fp.readline ().split (',')\n",
        "        assert (i == int (j_)) and (len (n_i) == int (c_j_))\n",
        "        \n",
        "print (\"\\n(Passed!)\")"
      ],
      "execution_count": 170,
      "outputs": [
        {
          "output_type": "stream",
          "text": [
            "\n",
            "(Passed!)\n"
          ],
          "name": "stdout"
        }
      ]
    },
    {
      "cell_type": "markdown",
      "metadata": {
        "deletable": false,
        "editable": false,
        "nbgrader": {
          "grade": false,
          "locked": true,
          "solution": false
        },
        "id": "Hx1-8etuoH-2"
      },
      "source": [
        "### Density\n",
        "\n",
        "The next important concept in DBSCAN is that of the _density_ of a neighborhood. Intuitively, the DBSCAN algorithm will try to \"grow\" clusters around points whose neighborhoods are sufficiently dense.\n",
        "\n",
        "Let's make this idea more precise.\n",
        "\n",
        "**Definition: _core points_.** A point $p$ is a _core point_ if its $\\epsilon$-neighborhood has at least $s$ points.\n",
        "\n",
        "In other words, the algorithm now has two user-defined parameters: the neighborhood size, $\\epsilon$, and the minimum density, specified using a threshold $s$ on the number of points in such a neighborhood."
      ]
    },
    {
      "cell_type": "markdown",
      "metadata": {
        "deletable": false,
        "editable": false,
        "nbgrader": {
          "grade": false,
          "locked": true,
          "solution": false
        },
        "id": "bVoXZ8NpoH-3"
      },
      "source": [
        "**Exercise 4** (2 points). Complete the function, `find_core_points(s, neighbors)`, below. It takes as input a minimum-points threshold, `s`, and a list of point neighborhoods, `neighbors[:]`, such that `neighbors[i]` is the (index) set of neighbors of point `i`. It should return a Python set, `core_set`, such that an index `j in core_set` only if the size of the neighborhood at `j` is at least `s`."
      ]
    },
    {
      "cell_type": "code",
      "metadata": {
        "nbgrader": {
          "grade": false,
          "grade_id": "find_core_points",
          "locked": false,
          "solution": true
        },
        "id": "cs1IEnYooH-4"
      },
      "source": [
        "def find_core_points (s, neighbors):\n",
        "    assert type (neighbors) is list\n",
        "    assert all ([type (n) is set for n in neighbors])\n",
        "    \n",
        "    core_set = set ()\n",
        "    ###\n",
        "    ### YOUR CODE HERE\n",
        "\n",
        "    for i in range(len(neighbors)):\n",
        "      value=neighbors[i]\n",
        "      if s <= len(value): core_set.add(i)      \n",
        "    ### \n",
        "    return core_set"
      ],
      "execution_count": 199,
      "outputs": []
    },
    {
      "cell_type": "code",
      "metadata": {
        "deletable": false,
        "editable": false,
        "nbgrader": {
          "grade": true,
          "grade_id": "find_core_points_test",
          "locked": true,
          "points": 2,
          "solution": false
        },
        "colab": {
          "base_uri": "https://localhost:8080/",
          "height": 471
        },
        "id": "ZYDjL4xsoH-5",
        "outputId": "be5e9c8a-b243-402f-9f50-9d2ea36e8c0d"
      },
      "source": [
        "core_set = find_core_points (5, neighbors)\n",
        "print(find_core_points (5, neighbors))\n",
        "\n",
        "print (\"Found {} core points.\".format (len (core_set)))\n",
        "\n",
        "def plot_core_set (df, core_set):\n",
        "    df_labeled = df.copy ()\n",
        "    df_labeled['label'] = False\n",
        "    df_labeled.loc[list (core_set), 'label'] = True\n",
        "    make_scatter_plot (df_labeled)\n",
        "    \n",
        "plot_core_set (crater, core_set)\n",
        "\n",
        "with open (fn('find_core_points_soln.txt'), 'rt') as fp:\n",
        "    core_set_soln = set ([int (i) for i in fp.read ().split ()])\n",
        "    assert core_set == core_set_soln\n",
        "    \n",
        "print (\"\\n(Passed!)\")\n"
      ],
      "execution_count": 200,
      "outputs": [
        {
          "output_type": "stream",
          "text": [
            "{2, 5, 7, 8, 9, 12, 16, 17, 21, 24, 25, 26, 27, 32, 33, 34, 38, 39, 40, 44, 45, 46, 47, 50, 52, 53, 56, 57, 59, 60, 70, 73, 76, 77, 78, 81, 82, 87, 89, 92, 95, 96, 98, 99, 101, 102, 104, 111, 114, 115, 117, 118, 120, 121, 127, 130, 131, 133, 134, 136, 137, 138, 139, 141, 143, 145, 146, 149, 151, 152, 157, 158, 159, 161, 163, 165, 168, 169, 170, 174, 188, 190, 191, 192, 196, 198, 200, 210, 213, 217, 222, 223, 224, 229, 230, 232, 233, 239, 241, 245, 248, 252, 258, 259, 262, 266, 271, 273, 274, 280, 282, 287, 288, 289, 290, 292, 295, 297, 298, 301, 305, 306, 313, 317, 320, 324, 325, 329, 332, 333, 334, 336, 337, 339, 341, 344, 345, 347, 349, 350, 352, 353, 354, 355, 356, 357, 358, 362, 364, 365, 366, 368, 369, 372, 374, 376, 385, 386, 388, 398, 401, 406, 407, 408, 409, 414, 416, 417, 419, 421, 427, 428, 430, 431, 437, 439, 442, 444, 445, 448, 449, 450, 452, 453, 456, 458, 460, 462, 465, 466, 467, 468, 469, 471, 472, 478, 479, 483, 485, 487, 490, 492, 493, 497, 502, 504, 506, 508, 514, 517, 519, 520, 522, 523, 525, 526, 529, 530, 532, 534, 535, 536, 539, 544, 546, 547, 549, 552, 554, 555, 559, 561, 563, 570, 571, 573, 574, 575, 579, 580, 584, 585, 586, 587, 588, 589, 592, 596, 599, 600, 603, 604, 606, 607, 608, 609, 612, 614, 616, 617, 620, 628, 629, 630, 631, 632, 634, 637, 639, 640, 641, 659, 660, 661, 665, 666, 668, 669, 672, 675, 676, 677, 679, 681, 684, 685, 686, 688, 690, 691, 692, 697, 698, 699, 701, 702, 703, 710, 712, 718, 727, 729, 730, 733, 737, 739, 740, 741, 742, 745, 746, 747, 748, 749, 750, 753, 754, 755, 756, 758, 763, 765, 769, 770, 771, 772, 773, 774, 775, 776, 780, 782, 788, 789, 790, 793, 800, 804, 805, 808, 810, 814, 817, 818, 822, 823, 825, 826, 827, 828, 829, 831, 832, 833, 836, 839, 841, 842, 844, 845, 846, 848, 850, 851, 852, 853, 854, 855, 861, 865, 866, 867, 870, 872, 876, 879, 880, 883, 885, 886, 887, 889, 890, 891, 892, 893, 897, 900, 902, 903, 904, 908, 911, 913, 920, 921, 922, 927, 928, 929, 931, 933, 935, 936, 941, 943, 947, 949, 951, 954, 956, 959, 961, 962, 963, 964, 969, 973, 975, 979, 983, 984, 985, 986, 999, 1006, 1008, 1013, 1016, 1020, 1021, 1030, 1032, 1035, 1036, 1038, 1040, 1041, 1043, 1045, 1047, 1049, 1052, 1055, 1057, 1058, 1059, 1066, 1067, 1068, 1071, 1073, 1074, 1077, 1078, 1079, 1085, 1087, 1095, 1096, 1098, 1100, 1101, 1102, 1105, 1106, 1110, 1112, 1113, 1114, 1116, 1119, 1120, 1122, 1124, 1125, 1127, 1131, 1132, 1137, 1142, 1144, 1145, 1149, 1153, 1157, 1160, 1161, 1162, 1165, 1166, 1169, 1170, 1172, 1173, 1182, 1183, 1185, 1186, 1187, 1188, 1189, 1192, 1194, 1197, 1199, 1200, 1202, 1204, 1207, 1214, 1215, 1217, 1219, 1224, 1225, 1228, 1231, 1233, 1235, 1238, 1239, 1241, 1242, 1243, 1244, 1245, 1255, 1258, 1259, 1261, 1264, 1267, 1268, 1275, 1278, 1281, 1284, 1285, 1286, 1289, 1290, 1291, 1293, 1294, 1296, 1301, 1303, 1305, 1308, 1310, 1311, 1314, 1318, 1321, 1323, 1324, 1327, 1330, 1334, 1337, 1339, 1342, 1345, 1348, 1350, 1352, 1359, 1362, 1365, 1366, 1370, 1372, 1374, 1376, 1379, 1384, 1386, 1387, 1388, 1390, 1392, 1395, 1401, 1404, 1406, 1408, 1414, 1415, 1416, 1417, 1419, 1422, 1423, 1425, 1428, 1432, 1434, 1440, 1444, 1446, 1447, 1449, 1450, 1452, 1454, 1455, 1459, 1463, 1464, 1465, 1466, 1472, 1473, 1474, 1475, 1477, 1482, 1483, 1484, 1490, 1493, 1497}\n",
            "Found 623 core points.\n",
            "\n",
            "(Passed!)\n"
          ],
          "name": "stdout"
        },
        {
          "output_type": "display_data",
          "data": {
            "image/png": "[encoded data removed]",
            "text/plain": [
              "<Figure size 421.25x360 with 1 Axes>"
            ]
          },
          "metadata": {
            "tags": [],
            "needs_background": "light"
          }
        }
      ]
    },
    {
      "cell_type": "markdown",
      "metadata": {
        "deletable": false,
        "editable": false,
        "nbgrader": {
          "grade": false,
          "locked": true,
          "solution": false
        },
        "id": "otDYs-OgoH-6"
      },
      "source": [
        "### Growing clusters via \"reachable\" points\n",
        "\n",
        "The last concept needed for DBSCAN is the idea of _growing_ a cluster around a core point. It depends on the notion of _reachability_.\n",
        "\n",
        "**Definition: Reachability.** A point $q$ is _reachable_ from another point $p$ if there exists a sequence of points $p=p_1, p_2, \\ldots, p_k=q$ such that every $p_i$ is a core point, possibly except for $p_k=q$, and $p_{i} \\in N_\\varepsilon(p_{i-1})$ for all $1 < i < k$.\n",
        "\n",
        "This procedure works as follows.\n",
        "\n",
        "**\"Expand Cluster\"** procedure:\n",
        "1. Consider any point $p$ that is not yet assigned to a cluster.\n",
        "2. If $p$ is a core point, then start a new cluster for it.\n",
        "3. Maintain a \"reachable\" set, which will be used to hold points that are reachable from $p$ as they are encountered. Initially, the reachable points are just $p$'s $\\varepsilon$-neighbors.\n",
        "4. Remove any point $q$ from the reachable set.\n",
        "5. If $q$ has not yet been visited, then mark it as being visited.\n",
        "6. If $q$ is also a core point, then add all of its neighbors to the reachable set, per the definition of \"reachability\" above.\n",
        "7. If $q$ is not yet assigned to any cluster, then add it to $p$'s cluster.\n",
        "\n",
        "Notice how this procedure explores the points reachable from $p$ (Step 6). Intuitively, it is trying to join all neighborhoods whose core points are mutually contained."
      ]
    },
    {
      "cell_type": "markdown",
      "metadata": {
        "deletable": false,
        "editable": false,
        "nbgrader": {
          "grade": false,
          "locked": true,
          "solution": false
        },
        "id": "61c8kwHDoH-7"
      },
      "source": [
        "Here is a brief illustration of these concepts:\n",
        "\n",
        "![Example: Growing clusters](./eps-example--small.png)\n",
        "\n",
        "In this picture, suppose the minimum density parameter is $s=3$ points. Thus, only the $\\varepsilon$-neighborhoods centered at 1, 3, and 6 are core points, since these are the only points that include at least $s=3$ points. For instance, $N_\\varepsilon(1) = \\{0, 1, 3, 7\\}$, making it a core point since its neighborhood has four (4) points, whereas $N_\\varepsilon(4) = \\{3, 4\\}$ is not a core point since its neighborhood has just two (2) points."
      ]
    },
    {
      "cell_type": "markdown",
      "metadata": {
        "deletable": false,
        "nbgrader": {
          "grade": false,
          "locked": true,
          "solution": false
        },
        "id": "cYIscKDAoH-8"
      },
      "source": [
        "# **Exercise 5** (4 points). Implement the \"cluster growth\" procedure described above in the function, `expand_cluster()`, below.\n",
        "\n",
        "The signature of the function is:\n",
        "\n",
        "```python\n",
        "def expand_cluster (p, neighbors, core_set, visited, assignment):\n",
        "    ...\n",
        "```\n",
        "\n",
        "Its parameters are:\n",
        "\n",
        "- `p` is the _index_ of a starting core point. The caller must guarantee that it is indeed a core point, and furthermore, that it has been assigned to some cluster. (See below.)\n",
        "- `neighbors[:]` is a list of $\\varepsilon$-neighborhoods, given as Python sets. For instance, `neighbors[p]` is a set of indices of all points in the neighborhood of `p`. It will have been computed from `find_neighbors()` above.\n",
        "- `core_set` is a Python set containing the indices of all core points. That is, the expression, **`i in core_set`**, is true only if `i` is indeed a core point.\n",
        "- `visited` is another Python set containing the indices of all points that have already been visited. That is, the expression **`i in visited`** should be `True` only if `i` has been visited. Thus, your `expand_cluster()` function should update this set when visiting any previously unvisited point.\n",
        "- `assignment` is a Python dictionary. The key is the index of a point; the value is the cluster label to which that point has been assigned. Consequently, if a point `i` does not yet have any cluster assignment, then the expression, **`i in assignment`**, will be **`False`**. Your `expand_cluster()` function should update cluster assignments by updating this dictionary.\n",
        "\n",
        "The skeleton of `expand_cluster()` does everything up to and including Step 4 of the procedure above. It first initializes the reachable set as a Python set, `reachable`, containing the neighbors of `p`. It then removes one of those reachable points, storing it in `q`. You just need to perform steps 5-7."
      ]
    },
    {
      "cell_type": "code",
      "metadata": {
        "nbgrader": {
          "grade": false,
          "grade_id": "expand_cluster",
          "locked": false,
          "solution": true
        },
        "id": "KU26VpGJoH-8"
      },
      "source": [
        "def expand_cluster (p, neighbors, core_set, visited, assignment):\n",
        "    # Assume the caller performs Steps 1 and 2 of the procedure.\n",
        "    # That means 'p' must be a core point that is part of a cluster.\n",
        "    assert (p in core_set) and (p in visited) and (p in assignment)\n",
        "    \n",
        "    reachable = set (neighbors[p])  # Step 3\n",
        "    while reachable:\n",
        "        q = reachable.pop () # Step 4\n",
        "        \n",
        "        # Put your reordered and correctly indented statements here:\n",
        "        ###\n",
        "        ### YOUR CODE HERE\n",
        "        ###\n",
        "        \n",
        "\n",
        "\n",
        "\n",
        "\n",
        "      \n",
        "              \n",
        "        ### END SOLUTION\n",
        "        \n",
        "        \n",
        "    # This procedure does not return anything\n",
        "    # except via updates to `visited` and\n",
        "    # `assignment`."
      ],
      "execution_count": null,
      "outputs": []
    },
    {
      "cell_type": "code",
      "metadata": {
        "deletable": false,
        "editable": false,
        "nbgrader": {
          "grade": true,
          "grade_id": "expand_cluster_test",
          "locked": true,
          "points": 4,
          "solution": false
        },
        "id": "3BPVk-inoH-9"
      },
      "source": [
        "# This test is based on the illustration above.\n",
        "p_test = 3\n",
        "neighbors_test = [set ([0, 1]),\n",
        "                  set ([0, 1, 3, 7]),\n",
        "                  set ([2, 3]),\n",
        "                  set ([1, 2, 3, 4, 6]),\n",
        "                  set ([3, 4]),\n",
        "                  set ([5]),\n",
        "                  set ([3, 6, 7]),\n",
        "                  set ([1, 7])\n",
        "                 ]\n",
        "core_set_test = set ([1, 3, 6])\n",
        "visited_test = set ([p_test])\n",
        "assignment_test = {p_test: 0}\n",
        "expand_cluster (p_test, neighbors_test, core_set_test,\n",
        "                visited_test, assignment_test)\n",
        "assert visited_test == set ([0, 1, 2, 3, 4, 6, 7]) # All but 5\n",
        "assert set (assignment_test.keys ()) == visited_test\n",
        "assert set (assignment_test.values ()) == set ([0])\n",
        "\n",
        "print (\"\\n(Passed!)\")"
      ],
      "execution_count": null,
      "outputs": []
    },
    {
      "cell_type": "markdown",
      "metadata": {
        "deletable": false,
        "editable": false,
        "nbgrader": {
          "grade": false,
          "locked": true,
          "solution": false
        },
        "id": "w9-FKLzOoH--"
      },
      "source": [
        "### Putting it all together\n",
        "\n",
        "If you've successfully completed all steps above, then you have everything you need to run the final DBSCAN algorithm, which we've provided below. The second code cell below shows a picture of the clusters discovered for a particular setting of neighborhood size, $\\varepsilon$, and density threshold, $s$.\n",
        "\n",
        "And there is **no additional code for you to write below**! However, you should make sure the remaining cells execute without error."
      ]
    },
    {
      "cell_type": "code",
      "metadata": {
        "id": "B1IWvBPJoH--"
      },
      "source": [
        "def dbscan (eps, s, X):\n",
        "    clusters = []\n",
        "    point_to_cluster = {}\n",
        "    \n",
        "    neighbors = find_neighbors (eps, X)\n",
        "    core_set = find_core_points (s, neighbors)\n",
        "    \n",
        "    assignment = {}\n",
        "    next_cluster_id = 0\n",
        "\n",
        "    visited = set ()\n",
        "    for i in core_set: # for each core point i\n",
        "        if i not in visited:\n",
        "            visited.add (i) # Mark i as visited\n",
        "            assignment[i] = next_cluster_id\n",
        "            expand_cluster (i, neighbors, core_set,\n",
        "                            visited, assignment)\n",
        "            next_cluster_id += 1\n",
        "\n",
        "    return assignment, core_set"
      ],
      "execution_count": null,
      "outputs": []
    },
    {
      "cell_type": "code",
      "metadata": {
        "id": "RNlX5EnmoH-_"
      },
      "source": [
        "assignment, core_set = dbscan (0.5, 10, X)\n",
        "\n",
        "print (\"Number of core points:\", len (core_set))\n",
        "print (\"Number of clusters:\", max (assignment.values ()))\n",
        "print (\"Number of unclassified points:\", len (X) - len (assignment))\n",
        "\n",
        "def plot_labels (df, labels):\n",
        "    df_labeled = df.copy ()\n",
        "    df_labeled['label'] = labels\n",
        "    make_scatter_plot2 (df_labeled)\n",
        "\n",
        "labels = [-1] * len (X)\n",
        "for i, c in assignment.items ():\n",
        "    labels[i] = c\n",
        "plot_labels (crater, labels)\n",
        "\n",
        "with open (fn('dbscan_soln.csv'), 'rt') as fp:\n",
        "    num_cores, num_clusters, num_outliers = fp.read ().split (',')\n",
        "    assert int (num_cores) == len (core_set)\n",
        "    assert int (num_clusters) == max (assignment.values ())\n",
        "    assert int (num_outliers) == (len (X) - len (assignment))\n",
        "print (\"\\n(Passed!)\")"
      ],
      "execution_count": null,
      "outputs": []
    },
    {
      "cell_type": "markdown",
      "metadata": {
        "collapsed": true,
        "deletable": false,
        "editable": false,
        "nbgrader": {
          "grade": false,
          "locked": true,
          "solution": false
        },
        "id": "JlXBxp4soH_A"
      },
      "source": [
        "**Fin!** If you've reached this point and all tests above pass, you are ready to submit your solution to this problem. Don't forget to save you work prior to submitting."
      ]
    }
  ]
}