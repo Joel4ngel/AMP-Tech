{
  "nbformat": 4,
  "nbformat_minor": 0,
  "metadata": {
    "colab": {
      "name": "Copia de tarea1.ipynb",
      "provenance": [],
      "mount_file_id": "1EtiuODcjDBeI4pWdtJegHKfNYVWUkOA0",
      "authorship_tag": "ABX9TyMPdYo1BLj/V6FPFKwfsN6C",
      "include_colab_link": true
    },
    "kernelspec": {
      "name": "python3",
      "display_name": "Python 3"
    }
  },
  "cells": [
    {
      "cell_type": "markdown",
      "metadata": {
        "id": "view-in-github",
        "colab_type": "text"
      },
      "source": [
        "<a href=\"https://colab.research.google.com/github/Joel4ngel/AMP-Tech/blob/master/Copia_de_tarea1.ipynb\" target=\"_parent\"><img src=\"https://colab.research.google.com/assets/colab-badge.svg\" alt=\"Open In Colab\"/></a>"
      ]
    },
    {
      "cell_type": "code",
      "metadata": {
        "id": "9f8IC4HdECtr",
        "colab_type": "code",
        "colab": {}
      },
      "source": [
        ""
      ],
      "execution_count": null,
      "outputs": []
    },
    {
      "cell_type": "code",
      "metadata": {
        "id": "neCmK4oaklNz",
        "colab_type": "code",
        "colab": {
          "base_uri": "https://localhost:8080/",
          "height": 102
        },
        "outputId": "135fd72a-b449-44d1-831d-388ced0893ac"
      },
      "source": [
        "#pip install python-rpy\n",
        "\n",
        "import pandas as pd\n",
        "import matplotlib.pyplot as plt\n",
        "import numpy as np\n",
        "\n",
        "from rpy2.robjects import pandas2ri,r\n",
        "from scipy.spatial import distance\n",
        "\n",
        "#url1=\"http://www.conapred.org.mx/datosabiertos/DA_2018_indicadores_PRONAIND.csv\"\n",
        "#url2='http://samplecsvs.s3.amazonaws.com/SalesJan2009.csv'\n"
      ],
      "execution_count": 3,
      "outputs": [
        {
          "output_type": "stream",
          "text": [
            "/usr/local/lib/python3.6/dist-packages/rpy2/robjects/pandas2ri.py:14: FutureWarning: pandas.core.index is deprecated and will be removed in a future version.  The public classes are available in the top-level namespace.\n",
            "  from pandas.core.index import Index as PandasIndex\n",
            "/usr/local/lib/python3.6/dist-packages/rpy2/robjects/pandas2ri.py:34: UserWarning: pandas >= 1.0 is not supported.\n",
            "  warnings.warn('pandas >= 1.0 is not supported.')\n"
          ],
          "name": "stderr"
        }
      ]
    },
    {
      "cell_type": "code",
      "metadata": {
        "id": "A4Ug8SGsDhqb",
        "colab_type": "code",
        "colab": {}
      },
      "source": [
        "#creo el path\n",
        "\n",
        "path='/content/drive/My Drive/Colab Notebooks/billetes.sav'\n",
        "path1='/content/drive/My Drive/Colab Notebooks/gorriones.sav'\n",
        "path2='/content/drive/My Drive/Colab Notebooks/cangrejos.sav'\n",
        "path3='/content/drive/My Drive/Colab Notebooks/satisfaccion.sav'"
      ],
      "execution_count": 4,
      "outputs": []
    },
    {
      "cell_type": "code",
      "metadata": {
        "id": "77W7HzTsDjoy",
        "colab_type": "code",
        "colab": {}
      },
      "source": [
        "#import pandas.rpy.common as com\n",
        "billetes = r('foreign::read.spss(\"%s\", to.data.frame=TRUE)' %path)\n",
        "DF= pandas2ri.rpy2py(billetes)\n",
        "df = DF.iloc[:, [0,1,2,3,4,5]] #selecciono las 6 1ras variables a usar."
      ],
      "execution_count": 7,
      "outputs": []
    },
    {
      "cell_type": "code",
      "metadata": {
        "id": "YmO4_GH3KDLi",
        "colab_type": "code",
        "colab": {
          "base_uri": "https://localhost:8080/",
          "height": 281
        },
        "outputId": "cb0e2686-6b1a-41c9-fc50-ebe2ef91c605"
      },
      "source": [
        "df.hist()\n",
        "plt.show()"
      ],
      "execution_count": 6,
      "outputs": [
        {
          "output_type": "display_data",
          "data": {
            "image/png": "[encoded data removed]",
            "text/plain": [
              "<Figure size 432x288 with 6 Axes>"
            ]
          },
          "metadata": {
            "tags": [],
            "needs_background": "light"
          }
        }
      ]
    },
    {
      "cell_type": "code",
      "metadata": {
        "id": "h4AEhAaA1dvA",
        "colab_type": "code",
        "colab": {
          "base_uri": "https://localhost:8080/",
          "height": 277
        },
        "outputId": "20672ab9-0599-4339-ef76-8b9a139e2dc9"
      },
      "source": [
        "df.describe()"
      ],
      "execution_count": null,
      "outputs": [
        {
          "output_type": "execute_result",
          "data": {
            "text/html": [
              "<div>\n",
              "<style scoped>\n",
              "    .dataframe tbody tr th:only-of-type {\n",
              "        vertical-align: middle;\n",
              "    }\n",
              "\n",
              "    .dataframe tbody tr th {\n",
              "        vertical-align: top;\n",
              "    }\n",
              "\n",
              "    .dataframe thead th {\n",
              "        text-align: right;\n",
              "    }\n",
              "</style>\n",
              "<table border=\"1\" class=\"dataframe\">\n",
              "  <thead>\n",
              "    <tr style=\"text-align: right;\">\n",
              "      <th></th>\n",
              "      <th>X1</th>\n",
              "      <th>X2</th>\n",
              "      <th>X3</th>\n",
              "      <th>X4</th>\n",
              "      <th>X5</th>\n",
              "      <th>X6</th>\n",
              "    </tr>\n",
              "  </thead>\n",
              "  <tbody>\n",
              "    <tr>\n",
              "      <th>count</th>\n",
              "      <td>200.000000</td>\n",
              "      <td>200.000000</td>\n",
              "      <td>200.000000</td>\n",
              "      <td>200.000000</td>\n",
              "      <td>200.000000</td>\n",
              "      <td>200.000000</td>\n",
              "    </tr>\n",
              "    <tr>\n",
              "      <th>mean</th>\n",
              "      <td>214.896000</td>\n",
              "      <td>130.121500</td>\n",
              "      <td>129.956500</td>\n",
              "      <td>9.417500</td>\n",
              "      <td>10.650500</td>\n",
              "      <td>140.483500</td>\n",
              "    </tr>\n",
              "    <tr>\n",
              "      <th>std</th>\n",
              "      <td>0.376554</td>\n",
              "      <td>0.361026</td>\n",
              "      <td>0.404072</td>\n",
              "      <td>1.444603</td>\n",
              "      <td>0.802947</td>\n",
              "      <td>1.152266</td>\n",
              "    </tr>\n",
              "    <tr>\n",
              "      <th>min</th>\n",
              "      <td>213.800000</td>\n",
              "      <td>129.000000</td>\n",
              "      <td>129.000000</td>\n",
              "      <td>7.200000</td>\n",
              "      <td>7.700000</td>\n",
              "      <td>137.800000</td>\n",
              "    </tr>\n",
              "    <tr>\n",
              "      <th>25%</th>\n",
              "      <td>214.600000</td>\n",
              "      <td>129.900000</td>\n",
              "      <td>129.700000</td>\n",
              "      <td>8.200000</td>\n",
              "      <td>10.100000</td>\n",
              "      <td>139.500000</td>\n",
              "    </tr>\n",
              "    <tr>\n",
              "      <th>50%</th>\n",
              "      <td>214.900000</td>\n",
              "      <td>130.200000</td>\n",
              "      <td>130.000000</td>\n",
              "      <td>9.100000</td>\n",
              "      <td>10.600000</td>\n",
              "      <td>140.450000</td>\n",
              "    </tr>\n",
              "    <tr>\n",
              "      <th>75%</th>\n",
              "      <td>215.100000</td>\n",
              "      <td>130.400000</td>\n",
              "      <td>130.225000</td>\n",
              "      <td>10.600000</td>\n",
              "      <td>11.200000</td>\n",
              "      <td>141.500000</td>\n",
              "    </tr>\n",
              "    <tr>\n",
              "      <th>max</th>\n",
              "      <td>216.300000</td>\n",
              "      <td>131.000000</td>\n",
              "      <td>131.100000</td>\n",
              "      <td>12.700000</td>\n",
              "      <td>12.300000</td>\n",
              "      <td>142.400000</td>\n",
              "    </tr>\n",
              "  </tbody>\n",
              "</table>\n",
              "</div>"
            ],
            "text/plain": [
              "               X1          X2          X3          X4          X5          X6\n",
              "count  200.000000  200.000000  200.000000  200.000000  200.000000  200.000000\n",
              "mean   214.896000  130.121500  129.956500    9.417500   10.650500  140.483500\n",
              "std      0.376554    0.361026    0.404072    1.444603    0.802947    1.152266\n",
              "min    213.800000  129.000000  129.000000    7.200000    7.700000  137.800000\n",
              "25%    214.600000  129.900000  129.700000    8.200000   10.100000  139.500000\n",
              "50%    214.900000  130.200000  130.000000    9.100000   10.600000  140.450000\n",
              "75%    215.100000  130.400000  130.225000   10.600000   11.200000  141.500000\n",
              "max    216.300000  131.000000  131.100000   12.700000   12.300000  142.400000"
            ]
          },
          "metadata": {
            "tags": []
          },
          "execution_count": 7
        }
      ]
    },
    {
      "cell_type": "code",
      "metadata": {
        "id": "bV8OdbRq3YNo",
        "colab_type": "code",
        "colab": {
          "base_uri": "https://localhost:8080/",
          "height": 220
        },
        "outputId": "c5c12883-8b33-4093-9402-d95e56ffc2cc"
      },
      "source": [
        "#1.2 Matriz de covarianzas\n",
        "df.cov()"
      ],
      "execution_count": null,
      "outputs": [
        {
          "output_type": "execute_result",
          "data": {
            "text/html": [
              "<div>\n",
              "<style scoped>\n",
              "    .dataframe tbody tr th:only-of-type {\n",
              "        vertical-align: middle;\n",
              "    }\n",
              "\n",
              "    .dataframe tbody tr th {\n",
              "        vertical-align: top;\n",
              "    }\n",
              "\n",
              "    .dataframe thead th {\n",
              "        text-align: right;\n",
              "    }\n",
              "</style>\n",
              "<table border=\"1\" class=\"dataframe\">\n",
              "  <thead>\n",
              "    <tr style=\"text-align: right;\">\n",
              "      <th></th>\n",
              "      <th>X1</th>\n",
              "      <th>X2</th>\n",
              "      <th>X3</th>\n",
              "      <th>X4</th>\n",
              "      <th>X5</th>\n",
              "      <th>X6</th>\n",
              "    </tr>\n",
              "  </thead>\n",
              "  <tbody>\n",
              "    <tr>\n",
              "      <th>X1</th>\n",
              "      <td>0.141793</td>\n",
              "      <td>0.031443</td>\n",
              "      <td>0.023091</td>\n",
              "      <td>-0.103246</td>\n",
              "      <td>-0.018541</td>\n",
              "      <td>0.084306</td>\n",
              "    </tr>\n",
              "    <tr>\n",
              "      <th>X2</th>\n",
              "      <td>0.031443</td>\n",
              "      <td>0.130339</td>\n",
              "      <td>0.108427</td>\n",
              "      <td>0.215803</td>\n",
              "      <td>0.105039</td>\n",
              "      <td>-0.209342</td>\n",
              "    </tr>\n",
              "    <tr>\n",
              "      <th>X3</th>\n",
              "      <td>0.023091</td>\n",
              "      <td>0.108427</td>\n",
              "      <td>0.163274</td>\n",
              "      <td>0.284132</td>\n",
              "      <td>0.129997</td>\n",
              "      <td>-0.240470</td>\n",
              "    </tr>\n",
              "    <tr>\n",
              "      <th>X4</th>\n",
              "      <td>-0.103246</td>\n",
              "      <td>0.215803</td>\n",
              "      <td>0.284132</td>\n",
              "      <td>2.086878</td>\n",
              "      <td>0.164539</td>\n",
              "      <td>-1.036996</td>\n",
              "    </tr>\n",
              "    <tr>\n",
              "      <th>X5</th>\n",
              "      <td>-0.018541</td>\n",
              "      <td>0.105039</td>\n",
              "      <td>0.129997</td>\n",
              "      <td>0.164539</td>\n",
              "      <td>0.644723</td>\n",
              "      <td>-0.549615</td>\n",
              "    </tr>\n",
              "    <tr>\n",
              "      <th>X6</th>\n",
              "      <td>0.084306</td>\n",
              "      <td>-0.209342</td>\n",
              "      <td>-0.240470</td>\n",
              "      <td>-1.036996</td>\n",
              "      <td>-0.549615</td>\n",
              "      <td>1.327716</td>\n",
              "    </tr>\n",
              "  </tbody>\n",
              "</table>\n",
              "</div>"
            ],
            "text/plain": [
              "          X1        X2        X3        X4        X5        X6\n",
              "X1  0.141793  0.031443  0.023091 -0.103246 -0.018541  0.084306\n",
              "X2  0.031443  0.130339  0.108427  0.215803  0.105039 -0.209342\n",
              "X3  0.023091  0.108427  0.163274  0.284132  0.129997 -0.240470\n",
              "X4 -0.103246  0.215803  0.284132  2.086878  0.164539 -1.036996\n",
              "X5 -0.018541  0.105039  0.129997  0.164539  0.644723 -0.549615\n",
              "X6  0.084306 -0.209342 -0.240470 -1.036996 -0.549615  1.327716"
            ]
          },
          "metadata": {
            "tags": []
          },
          "execution_count": 9
        }
      ]
    },
    {
      "cell_type": "code",
      "metadata": {
        "id": "Bm7eqan13NHI",
        "colab_type": "code",
        "colab": {
          "base_uri": "https://localhost:8080/",
          "height": 220
        },
        "outputId": "0440bd7d-05b7-4a91-e5a3-2cfde991e77d"
      },
      "source": [
        "#1.3 Matriz de correlaciones\n",
        "df.corr()"
      ],
      "execution_count": null,
      "outputs": [
        {
          "output_type": "execute_result",
          "data": {
            "text/html": [
              "<div>\n",
              "<style scoped>\n",
              "    .dataframe tbody tr th:only-of-type {\n",
              "        vertical-align: middle;\n",
              "    }\n",
              "\n",
              "    .dataframe tbody tr th {\n",
              "        vertical-align: top;\n",
              "    }\n",
              "\n",
              "    .dataframe thead th {\n",
              "        text-align: right;\n",
              "    }\n",
              "</style>\n",
              "<table border=\"1\" class=\"dataframe\">\n",
              "  <thead>\n",
              "    <tr style=\"text-align: right;\">\n",
              "      <th></th>\n",
              "      <th>X1</th>\n",
              "      <th>X2</th>\n",
              "      <th>X3</th>\n",
              "      <th>X4</th>\n",
              "      <th>X5</th>\n",
              "      <th>X6</th>\n",
              "    </tr>\n",
              "  </thead>\n",
              "  <tbody>\n",
              "    <tr>\n",
              "      <th>X1</th>\n",
              "      <td>1.000000</td>\n",
              "      <td>0.231293</td>\n",
              "      <td>0.151763</td>\n",
              "      <td>-0.189801</td>\n",
              "      <td>-0.061321</td>\n",
              "      <td>0.194301</td>\n",
              "    </tr>\n",
              "    <tr>\n",
              "      <th>X2</th>\n",
              "      <td>0.231293</td>\n",
              "      <td>1.000000</td>\n",
              "      <td>0.743263</td>\n",
              "      <td>0.413781</td>\n",
              "      <td>0.362350</td>\n",
              "      <td>-0.503229</td>\n",
              "    </tr>\n",
              "    <tr>\n",
              "      <th>X3</th>\n",
              "      <td>0.151763</td>\n",
              "      <td>0.743263</td>\n",
              "      <td>1.000000</td>\n",
              "      <td>0.486758</td>\n",
              "      <td>0.400670</td>\n",
              "      <td>-0.516476</td>\n",
              "    </tr>\n",
              "    <tr>\n",
              "      <th>X4</th>\n",
              "      <td>-0.189801</td>\n",
              "      <td>0.413781</td>\n",
              "      <td>0.486758</td>\n",
              "      <td>1.000000</td>\n",
              "      <td>0.141851</td>\n",
              "      <td>-0.622983</td>\n",
              "    </tr>\n",
              "    <tr>\n",
              "      <th>X5</th>\n",
              "      <td>-0.061321</td>\n",
              "      <td>0.362350</td>\n",
              "      <td>0.400670</td>\n",
              "      <td>0.141851</td>\n",
              "      <td>1.000000</td>\n",
              "      <td>-0.594045</td>\n",
              "    </tr>\n",
              "    <tr>\n",
              "      <th>X6</th>\n",
              "      <td>0.194301</td>\n",
              "      <td>-0.503229</td>\n",
              "      <td>-0.516476</td>\n",
              "      <td>-0.622983</td>\n",
              "      <td>-0.594045</td>\n",
              "      <td>1.000000</td>\n",
              "    </tr>\n",
              "  </tbody>\n",
              "</table>\n",
              "</div>"
            ],
            "text/plain": [
              "          X1        X2        X3        X4        X5        X6\n",
              "X1  1.000000  0.231293  0.151763 -0.189801 -0.061321  0.194301\n",
              "X2  0.231293  1.000000  0.743263  0.413781  0.362350 -0.503229\n",
              "X3  0.151763  0.743263  1.000000  0.486758  0.400670 -0.516476\n",
              "X4 -0.189801  0.413781  0.486758  1.000000  0.141851 -0.622983\n",
              "X5 -0.061321  0.362350  0.400670  0.141851  1.000000 -0.594045\n",
              "X6  0.194301 -0.503229 -0.516476 -0.622983 -0.594045  1.000000"
            ]
          },
          "metadata": {
            "tags": []
          },
          "execution_count": 8
        }
      ]
    },
    {
      "cell_type": "code",
      "metadata": {
        "id": "dLzVpi67vXQQ",
        "colab_type": "code",
        "colab": {}
      },
      "source": [
        "#1.4 Tipos -----> dfv : verdadero , dff= falso\n",
        "dfv = DF[DF.X7 == 'verdadero'].iloc[:, [0,1,2,3,4,5]]\n",
        "dff = DF[DF.X7 == 'falso'].iloc[:, [0,1,2,3,4,5]]"
      ],
      "execution_count": 24,
      "outputs": []
    },
    {
      "cell_type": "code",
      "metadata": {
        "id": "9PatJvi6z75H",
        "colab_type": "code",
        "colab": {
          "base_uri": "https://localhost:8080/",
          "height": 245
        },
        "outputId": "4e7328d6-20ac-4c1f-c656-e7ca66c417d2"
      },
      "source": [
        "#matrices de cov y corr\n",
        "dfv.cov(), dff.cov()#, dfv.corr(),dff.corr()"
      ],
      "execution_count": 35,
      "outputs": [
        {
          "output_type": "execute_result",
          "data": {
            "text/plain": [
              "(          X1        X2        X3        X4        X5        X6\n",
              " X1  0.150241  0.058013  0.057293  0.057126  0.014453  0.005482\n",
              " X2  0.058013  0.132577  0.085899  0.056652  0.049067 -0.043062\n",
              " X3  0.057293  0.085899  0.126263  0.058182  0.030646 -0.023778\n",
              " X4  0.057126  0.056652  0.058182  0.413207 -0.263475 -0.000187\n",
              " X5  0.014453  0.049067  0.030646 -0.263475  0.421188 -0.075309\n",
              " X6  0.005482 -0.043062 -0.023778 -0.000187 -0.075309  0.199809,\n",
              "           X1        X2        X3        X4        X5        X6\n",
              " X1  0.124011  0.031515  0.024001 -0.100596  0.019435  0.011566\n",
              " X2  0.031515  0.065051  0.046768 -0.024040 -0.011919 -0.005051\n",
              " X3  0.024001  0.046768  0.088940 -0.018576  0.000132  0.034192\n",
              " X4 -0.100596 -0.024040 -0.018576  1.281313 -0.490192  0.238485\n",
              " X5  0.019435 -0.011919  0.000132 -0.490192  0.404456 -0.022071\n",
              " X6  0.011566 -0.005051  0.034192  0.238485 -0.022071  0.311212)"
            ]
          },
          "metadata": {
            "tags": []
          },
          "execution_count": 35
        }
      ]
    },
    {
      "cell_type": "code",
      "metadata": {
        "id": "0XBosODqoqX8",
        "colab_type": "code",
        "colab": {}
      },
      "source": [
        "#EJR.2 TOMO MUESTRA ALEATORIA DE TAMANIO 25\n",
        "d=df.iloc[:, [0,1,2,3,4,5]].sample(25)"
      ],
      "execution_count": null,
      "outputs": []
    },
    {
      "cell_type": "code",
      "metadata": {
        "id": "n3A9O_Y06UXb",
        "colab_type": "code",
        "colab": {}
      },
      "source": [
        "#Creo una función:mahal (Distancia de Mahalanobis)\n",
        "def mahal(x,d):\n",
        "  x1=x-d.mean()\n",
        "  cov=pow(d.cov(),-1)\n",
        "  mah=np.dot(np.dot(x1,cov),x1)\n",
        "  return np.sqrt(abs(mah))"
      ],
      "execution_count": null,
      "outputs": []
    },
    {
      "cell_type": "code",
      "metadata": {
        "id": "djYPQGytDilx",
        "colab_type": "code",
        "colab": {
          "base_uri": "https://localhost:8080/",
          "height": 53
        },
        "outputId": "da12a215-6024-46eb-93d4-3ba54bc91971"
      },
      "source": [
        "# 2.1 Distancia_cuadrada de mahal de la muestra\n",
        "dist_2=[mahal(muestra.iloc[i,:],muestra)**2 for i in range(0,len(d))]\n",
        "print(dist_2)"
      ],
      "execution_count": null,
      "outputs": [
        {
          "output_type": "stream",
          "text": [
            "[53.461712408321866, 129.1551856187325, 119.30009382448948, 15.941026363131286, 27.333596052472366, 8.416584646807214, 36.118356255157146, 11.145450893131796, 63.894440291331875, 128.1475303152336, 8.584062817706206, 51.12617304965674, 3.926469824481676, 63.05302482724405, 34.09144491953495, 40.60464755203701, 15.778694402541152, 67.54670524302742, 47.36097122805794, 22.959803427349502, 7.562691793869255, 39.16882559191588, 54.098638839800486, 10.219618932690032, 10.446885166129263]\n"
          ],
          "name": "stdout"
        }
      ]
    },
    {
      "cell_type": "code",
      "metadata": {
        "id": "odsnbGrk88XM",
        "colab_type": "code",
        "colab": {
          "base_uri": "https://localhost:8080/",
          "height": 53
        },
        "outputId": "2fc476ca-f0af-4bfa-c058-5cb4f9d39f17"
      },
      "source": [
        "# 2.2 Distancia de mahal de la muestra oredenada ascendentemente\n",
        "dist_=[mahal(muestra.iloc[i,:],muestra) for i in range(0,len(d))]\n",
        "print(sorted(dist_))"
      ],
      "execution_count": null,
      "outputs": [
        {
          "output_type": "stream",
          "text": [
            "[1.9815321911292978, 2.7500348713914984, 2.9011350618003315, 2.9298571326442193, 3.1968138720748245, 3.2321641613830914, 3.338480326905012, 3.9722404764239982, 3.99262149009035, 4.791638908280705, 5.228154172599768, 5.838787966653263, 6.0098549279626665, 6.258500266990159, 6.372177614602171, 6.881930777627594, 7.150256852005859, 7.311751664842144, 7.35517768920646, 7.940593480795, 7.99339979553956, 8.218680261637353, 10.922458231757606, 11.320226601761716, 11.364646304163298]\n"
          ],
          "name": "stdout"
        }
      ]
    },
    {
      "cell_type": "code",
      "metadata": {
        "id": "vMtmZkJ6EK5Y",
        "colab_type": "code",
        "colab": {}
      },
      "source": [
        ""
      ],
      "execution_count": null,
      "outputs": []
    }
  ]
}