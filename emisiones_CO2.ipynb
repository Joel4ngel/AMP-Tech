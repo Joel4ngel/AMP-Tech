{
  "nbformat": 4,
  "nbformat_minor": 0,
  "metadata": {
    "colab": {
      "name": "emisiones_CO2.ipynb",
      "provenance": [],
      "authorship_tag": "ABX9TyNlLx3lH+DdizUIWft5EJ0m",
      "include_colab_link": true
    },
    "kernelspec": {
      "name": "python3",
      "display_name": "Python 3"
    }
  },
  "cells": [
    {
      "cell_type": "markdown",
      "metadata": {
        "id": "view-in-github",
        "colab_type": "text"
      },
      "source": [
        "<a href=\"https://colab.research.google.com/github/Joel4ngel/AMP-Tech/blob/master/emisiones_CO2.ipynb\" target=\"_parent\"><img src=\"https://colab.research.google.com/assets/colab-badge.svg\" alt=\"Open In Colab\"/></a>"
      ]
    },
    {
      "cell_type": "code",
      "metadata": {
        "id": "cR4wC0nv7JgR",
        "colab_type": "code",
        "colab": {
          "base_uri": "https://localhost:8080/",
          "height": 197
        },
        "outputId": "acdd9751-62aa-41a7-e561-013af5fe86fb"
      },
      "source": [
        "#Autor: Joel Taquia\n",
        "#Llamo las librias que usare\n",
        "import pandas as pd\n",
        "import numpy as np\n",
        "import matplotlib.pyplot as plt\n",
        "from sklearn.decomposition import PCA\n",
        "from sklearn.preprocessing import StandardScaler\n",
        "%matplotlib inline\n",
        "#=====================================================\n",
        "#1. Cargo la data que previamente lo subi a mi DRIVE\n",
        "ruta='/content/emision_co2.csv'\n",
        "df = pd.read_csv(ruta,sep=';',)\n",
        "\n",
        "#Elimino la ultima columna,pues la ultima columna del csv se guardo con ';'\n",
        "df=df.drop(df.columns[-1], axis='columns')\n",
        "#Muestro la data\n",
        "df"
      ],
      "execution_count": 5,
      "outputs": [
        {
          "output_type": "execute_result",
          "data": {
            "text/html": [
              "<div>\n",
              "<style scoped>\n",
              "    .dataframe tbody tr th:only-of-type {\n",
              "        vertical-align: middle;\n",
              "    }\n",
              "\n",
              "    .dataframe tbody tr th {\n",
              "        vertical-align: top;\n",
              "    }\n",
              "\n",
              "    .dataframe thead th {\n",
              "        text-align: right;\n",
              "    }\n",
              "</style>\n",
              "<table border=\"1\" class=\"dataframe\">\n",
              "  <thead>\n",
              "    <tr style=\"text-align: right;\">\n",
              "      <th></th>\n",
              "      <th>pais</th>\n",
              "      <th>codigo</th>\n",
              "      <th>construccion</th>\n",
              "      <th>industrias</th>\n",
              "      <th>otros combustibles</th>\n",
              "      <th>transporte</th>\n",
              "      <th>manufacturacion</th>\n",
              "      <th>fugas</th>\n",
              "      <th>energia</th>\n",
              "      <th>nivel</th>\n",
              "      <th>Unnamed: 10</th>\n",
              "    </tr>\n",
              "  </thead>\n",
              "  <tbody>\n",
              "    <tr>\n",
              "      <th>55</th>\n",
              "      <td>Portugal</td>\n",
              "      <td>PRT</td>\n",
              "      <td>2.9</td>\n",
              "      <td>2.55</td>\n",
              "      <td>1.1</td>\n",
              "      <td>15.8</td>\n",
              "      <td>5.6</td>\n",
              "      <td>0.00</td>\n",
              "      <td>20.3</td>\n",
              "      <td>medio</td>\n",
              "      <td>NaN</td>\n",
              "    </tr>\n",
              "    <tr>\n",
              "      <th>56</th>\n",
              "      <td>Peru</td>\n",
              "      <td>PER</td>\n",
              "      <td>2.7</td>\n",
              "      <td>3.95</td>\n",
              "      <td>0.5</td>\n",
              "      <td>17.4</td>\n",
              "      <td>7.7</td>\n",
              "      <td>0.33</td>\n",
              "      <td>15.2</td>\n",
              "      <td>medio</td>\n",
              "      <td>NaN</td>\n",
              "    </tr>\n",
              "    <tr>\n",
              "      <th>57</th>\n",
              "      <td>Singapore</td>\n",
              "      <td>SGP</td>\n",
              "      <td>0.6</td>\n",
              "      <td>0.00</td>\n",
              "      <td>0.0</td>\n",
              "      <td>7.4</td>\n",
              "      <td>10.5</td>\n",
              "      <td>0.00</td>\n",
              "      <td>27.5</td>\n",
              "      <td>medio</td>\n",
              "      <td>NaN</td>\n",
              "    </tr>\n",
              "    <tr>\n",
              "      <th>58</th>\n",
              "      <td>Serbia</td>\n",
              "      <td>SRB</td>\n",
              "      <td>2.8</td>\n",
              "      <td>0.88</td>\n",
              "      <td>0.4</td>\n",
              "      <td>5.1</td>\n",
              "      <td>4.9</td>\n",
              "      <td>0.00</td>\n",
              "      <td>31.4</td>\n",
              "      <td>medio</td>\n",
              "      <td>NaN</td>\n",
              "    </tr>\n",
              "    <tr>\n",
              "      <th>59</th>\n",
              "      <td>Bulgaria</td>\n",
              "      <td>BGR</td>\n",
              "      <td>1.4</td>\n",
              "      <td>0.98</td>\n",
              "      <td>0.5</td>\n",
              "      <td>8.2</td>\n",
              "      <td>3.3</td>\n",
              "      <td>0.00</td>\n",
              "      <td>31.0</td>\n",
              "      <td>medio</td>\n",
              "      <td>NaN</td>\n",
              "    </tr>\n",
              "  </tbody>\n",
              "</table>\n",
              "</div>"
            ],
            "text/plain": [
              "         pais codigo  construccion  ...  energia  nivel  Unnamed: 10\n",
              "55   Portugal    PRT           2.9  ...     20.3  medio          NaN\n",
              "56       Peru    PER           2.7  ...     15.2  medio          NaN\n",
              "57  Singapore    SGP           0.6  ...     27.5  medio          NaN\n",
              "58     Serbia    SRB           2.8  ...     31.4  medio          NaN\n",
              "59   Bulgaria    BGR           1.4  ...     31.0  medio          NaN\n",
              "\n",
              "[5 rows x 11 columns]"
            ]
          },
          "metadata": {
            "tags": []
          },
          "execution_count": 5
        }
      ]
    },
    {
      "cell_type": "code",
      "metadata": {
        "id": "HoPUQSER82PV",
        "colab_type": "code",
        "colab": {}
      },
      "source": [
        "#2.\tSeleccionar las variables dependientes e independientes que usare en el PCA\n",
        "\n",
        "#Variables dependientes\n",
        "X = df.iloc[:,2:9].values\n",
        "# la submatriz x contiene los valores de los 7 sectores.\n",
        "\n",
        "#Variables independientes\n",
        "y = df.iloc[:,-1].values\n",
        "# El vector y contiene los categoricos de la ultima variable\n",
        "\n",
        "X1 = df.iloc[:,2:9]\n",
        "y1 = df.iloc[:,-1]"
      ],
      "execution_count": 24,
      "outputs": []
    },
    {
      "cell_type": "code",
      "metadata": {
        "id": "YBb2xK0jBcX7",
        "colab_type": "code",
        "colab": {
          "base_uri": "https://localhost:8080/",
          "height": 197
        },
        "outputId": "00d04796-6a44-4f1d-f68e-3ce7ce99fd93"
      },
      "source": [
        "X1.head()"
      ],
      "execution_count": 28,
      "outputs": [
        {
          "output_type": "execute_result",
          "data": {
            "text/html": [
              "<div>\n",
              "<style scoped>\n",
              "    .dataframe tbody tr th:only-of-type {\n",
              "        vertical-align: middle;\n",
              "    }\n",
              "\n",
              "    .dataframe tbody tr th {\n",
              "        vertical-align: top;\n",
              "    }\n",
              "\n",
              "    .dataframe thead th {\n",
              "        text-align: right;\n",
              "    }\n",
              "</style>\n",
              "<table border=\"1\" class=\"dataframe\">\n",
              "  <thead>\n",
              "    <tr style=\"text-align: right;\">\n",
              "      <th></th>\n",
              "      <th>construccion</th>\n",
              "      <th>industrias</th>\n",
              "      <th>otros combustibles</th>\n",
              "      <th>transporte</th>\n",
              "      <th>manufacturacion</th>\n",
              "      <th>fugas</th>\n",
              "    </tr>\n",
              "  </thead>\n",
              "  <tbody>\n",
              "    <tr>\n",
              "      <th>0</th>\n",
              "      <td>457.2</td>\n",
              "      <td>714.80</td>\n",
              "      <td>186.0</td>\n",
              "      <td>686.1</td>\n",
              "      <td>3029.8</td>\n",
              "      <td>0.00</td>\n",
              "    </tr>\n",
              "    <tr>\n",
              "      <th>1</th>\n",
              "      <td>460.6</td>\n",
              "      <td>35.27</td>\n",
              "      <td>46.1</td>\n",
              "      <td>1597.5</td>\n",
              "      <td>438.6</td>\n",
              "      <td>11.93</td>\n",
              "    </tr>\n",
              "    <tr>\n",
              "      <th>2</th>\n",
              "      <td>486.9</td>\n",
              "      <td>53.74</td>\n",
              "      <td>63.1</td>\n",
              "      <td>753.0</td>\n",
              "      <td>377.9</td>\n",
              "      <td>1.86</td>\n",
              "    </tr>\n",
              "    <tr>\n",
              "      <th>3</th>\n",
              "      <td>96.6</td>\n",
              "      <td>101.40</td>\n",
              "      <td>57.1</td>\n",
              "      <td>219.2</td>\n",
              "      <td>433.0</td>\n",
              "      <td>1.91</td>\n",
              "    </tr>\n",
              "    <tr>\n",
              "      <th>4</th>\n",
              "      <td>122.4</td>\n",
              "      <td>26.25</td>\n",
              "      <td>14.1</td>\n",
              "      <td>237.3</td>\n",
              "      <td>169.4</td>\n",
              "      <td>32.66</td>\n",
              "    </tr>\n",
              "  </tbody>\n",
              "</table>\n",
              "</div>"
            ],
            "text/plain": [
              "   construccion  industrias  ...  manufacturacion  fugas\n",
              "0         457.2      714.80  ...           3029.8   0.00\n",
              "1         460.6       35.27  ...            438.6  11.93\n",
              "2         486.9       53.74  ...            377.9   1.86\n",
              "3          96.6      101.40  ...            433.0   1.91\n",
              "4         122.4       26.25  ...            169.4  32.66\n",
              "\n",
              "[5 rows x 6 columns]"
            ]
          },
          "metadata": {
            "tags": []
          },
          "execution_count": 28
        }
      ]
    },
    {
      "cell_type": "code",
      "metadata": {
        "id": "Rea0hLk7A5PQ",
        "colab_type": "code",
        "colab": {
          "base_uri": "https://localhost:8080/",
          "height": 116
        },
        "outputId": "4eed4a0f-b8f8-4539-e31c-25f4a24d8f4e"
      },
      "source": [
        "y1.head()"
      ],
      "execution_count": 29,
      "outputs": [
        {
          "output_type": "execute_result",
          "data": {
            "text/plain": [
              "0    muy alto\n",
              "1    muy alto\n",
              "2    muy alto\n",
              "3    muy alto\n",
              "4    muy alto\n",
              "Name: nivel, dtype: object"
            ]
          },
          "metadata": {
            "tags": []
          },
          "execution_count": 29
        }
      ]
    },
    {
      "cell_type": "code",
      "metadata": {
        "id": "ElFBHsIxCTDp",
        "colab_type": "code",
        "colab": {}
      },
      "source": [
        "#3. Normalizo las variables\n",
        "from sklearn.preprocessing import StandardScaler\n",
        "X_std = StandardScaler().fit_transform(X)"
      ],
      "execution_count": 44,
      "outputs": []
    },
    {
      "cell_type": "code",
      "metadata": {
        "id": "FCoRmqq1Cm8B",
        "colab_type": "code",
        "colab": {}
      },
      "source": [
        "X1_std=StandardScaler().fit_transform(X1)"
      ],
      "execution_count": 45,
      "outputs": []
    },
    {
      "cell_type": "code",
      "metadata": {
        "id": "OhJj0VD0EJ3-",
        "colab_type": "code",
        "colab": {
          "base_uri": "https://localhost:8080/",
          "height": 250
        },
        "outputId": "54902b4f-bb98-4126-afb7-5fd36d74525f"
      },
      "source": [
        "# Calculamos la matriz de varianzas covarianza\n",
        "cov_mat=np.cov(X_std.T)\n",
        "cov_mat"
      ],
      "execution_count": 56,
      "outputs": [
        {
          "output_type": "execute_result",
          "data": {
            "text/plain": [
              "array([[ 1.01694915,  0.59987643,  0.79672935,  0.90733391,  0.68080573,\n",
              "         0.13005835,  0.87178034],\n",
              "       [ 0.59987643,  1.01694915,  0.95257773,  0.40072509,  1.00884687,\n",
              "        -0.0336988 ,  0.89089663],\n",
              "       [ 0.79672935,  0.95257773,  1.01694915,  0.61645473,  0.97554578,\n",
              "        -0.00652657,  0.95899333],\n",
              "       [ 0.90733391,  0.40072509,  0.61645473,  1.01694915,  0.49868548,\n",
              "         0.17084984,  0.77586658],\n",
              "       [ 0.68080573,  1.00884687,  0.97554578,  0.49868548,  1.01694915,\n",
              "        -0.01565356,  0.93900453],\n",
              "       [ 0.13005835, -0.0336988 , -0.00652657,  0.17084984, -0.01565356,\n",
              "         1.01694915,  0.09353372],\n",
              "       [ 0.87178034,  0.89089663,  0.95899333,  0.77586658,  0.93900453,\n",
              "         0.09353372,  1.01694915]])"
            ]
          },
          "metadata": {
            "tags": []
          },
          "execution_count": 56
        }
      ]
    },
    {
      "cell_type": "code",
      "metadata": {
        "id": "39xVglxpEvev",
        "colab_type": "code",
        "colab": {}
      },
      "source": [
        "#4.Obtengo los autovectores y autovalores a partir de la matriz de covarianza\n",
        "\n",
        "eig_vals, eig_vecs = np.linalg.eig(cov_mat)"
      ],
      "execution_count": 57,
      "outputs": []
    },
    {
      "cell_type": "code",
      "metadata": {
        "id": "Aql91kUKFkbT",
        "colab_type": "code",
        "colab": {
          "base_uri": "https://localhost:8080/",
          "height": 133
        },
        "outputId": "e138508b-8df9-487a-ab75-6615913f83d4"
      },
      "source": [
        "#Autovalores ya están ordenado de mayor a menos felizmente\n",
        "for i in eig_vals: print(i)"
      ],
      "execution_count": 63,
      "outputs": [
        {
          "output_type": "stream",
          "text": [
            "5.014360727568823\n",
            "1.180004408246949\n",
            "0.7842992021082758\n",
            "0.09216283476136164\n",
            "0.03125024916074608\n",
            "0.014836493416105913\n",
            "0.001730152534361756\n"
          ],
          "name": "stdout"
        }
      ]
    },
    {
      "cell_type": "code",
      "metadata": {
        "id": "ammugmdGFsk7",
        "colab_type": "code",
        "colab": {
          "base_uri": "https://localhost:8080/",
          "height": 250
        },
        "outputId": "ab1f54b4-7135-41e4-e128-7a26a8a51f8f"
      },
      "source": [
        "#Autovectores\n",
        "for i in eig_vecs: print(i)"
      ],
      "execution_count": 66,
      "outputs": [
        {
          "output_type": "stream",
          "text": [
            "[ 0.39422048  0.27216274 -0.35425408 -0.72302203 -0.33627656  0.09046407\n",
            "  0.03154643]\n",
            "[ 0.40263318 -0.30120325  0.3421159   0.10025392 -0.17459184  0.41925339\n",
            "  0.6432832 ]\n",
            "[ 0.43649823 -0.14481552  0.10374791 -0.27132086  0.82424874 -0.15447221\n",
            " -0.02952091]\n",
            "[ 0.33770523  0.41976495 -0.51390049  0.54259616  0.20097966  0.33274741\n",
            "  0.0116019 ]\n",
            "[ 0.42201621 -0.23738226  0.25845422  0.12262467 -0.23917654  0.24110822\n",
            " -0.75390848]\n",
            "[ 0.03193256  0.76225979  0.64482831 -0.02397996  0.0318012   0.0220494\n",
            " -0.00801509]\n",
            "[ 0.44585181  0.02528969  0.00113314  0.28905164 -0.28007183 -0.78920276\n",
            "  0.12547204]\n"
          ],
          "name": "stdout"
        }
      ]
    },
    {
      "cell_type": "code",
      "metadata": {
        "id": "Vddf8Zr2GKTi",
        "colab_type": "code",
        "colab": {
          "base_uri": "https://localhost:8080/",
          "height": 150
        },
        "outputId": "ee24a401-7c9c-45bb-8a3f-dc74e874b1ef"
      },
      "source": [
        "\n",
        "# Hacemos una lista de parejas (autovector, autovalor) \n",
        "eig_pairs = [(np.abs(eig_vals[i]), eig_vecs[:,i]) for i in range(len(eig_vals))]\n"
      ],
      "execution_count": 67,
      "outputs": [
        {
          "output_type": "stream",
          "text": [
            "Autovalores en orden descendiente:\n",
            "5.014360727568823\n",
            "1.180004408246949\n",
            "0.7842992021082758\n",
            "0.09216283476136164\n",
            "0.03125024916074608\n",
            "0.014836493416105913\n",
            "0.001730152534361756\n"
          ],
          "name": "stdout"
        }
      ]
    },
    {
      "cell_type": "code",
      "metadata": {
        "id": "-9Dj1aq6HAjk",
        "colab_type": "code",
        "colab": {
          "base_uri": "https://localhost:8080/",
          "height": 250
        },
        "outputId": "3f477412-16f9-4b8a-b14b-2158285de600"
      },
      "source": [
        "#Lista de (autovalor y autovecro correspondiente)\n",
        "for i in eig_pairs: print(i)"
      ],
      "execution_count": 70,
      "outputs": [
        {
          "output_type": "stream",
          "text": [
            "(5.014360727568823, array([0.39422048, 0.40263318, 0.43649823, 0.33770523, 0.42201621,\n",
            "       0.03193256, 0.44585181]))\n",
            "(1.180004408246949, array([ 0.27216274, -0.30120325, -0.14481552,  0.41976495, -0.23738226,\n",
            "        0.76225979,  0.02528969]))\n",
            "(0.7842992021082758, array([-0.35425408,  0.3421159 ,  0.10374791, -0.51390049,  0.25845422,\n",
            "        0.64482831,  0.00113314]))\n",
            "(0.09216283476136164, array([-0.72302203,  0.10025392, -0.27132086,  0.54259616,  0.12262467,\n",
            "       -0.02397996,  0.28905164]))\n",
            "(0.03125024916074608, array([-0.33627656, -0.17459184,  0.82424874,  0.20097966, -0.23917654,\n",
            "        0.0318012 , -0.28007183]))\n",
            "(0.014836493416105913, array([ 0.09046407,  0.41925339, -0.15447221,  0.33274741,  0.24110822,\n",
            "        0.0220494 , -0.78920276]))\n",
            "(0.001730152534361756, array([ 0.03154643,  0.6432832 , -0.02952091,  0.0116019 , -0.75390848,\n",
            "       -0.00801509,  0.12547204]))\n"
          ],
          "name": "stdout"
        }
      ]
    },
    {
      "cell_type": "code",
      "metadata": {
        "id": "Hf77Fs87Hhn0",
        "colab_type": "code",
        "colab": {
          "base_uri": "https://localhost:8080/",
          "height": 368
        },
        "outputId": "cc59fb73-827e-4c87-ab49-bf1fb63e8e7b"
      },
      "source": [
        "\n",
        "# A partir de los autovalores, calculamos la varianza explicada\n",
        "tot = sum(eig_vals)\n",
        "#varianza porcentual para cada autovalor\n",
        "var_exp = [(i / tot)*100 for i in sorted(eig_vals, reverse=True)]\n",
        "\n",
        "#Hago una suma acumulada\n",
        "cum_var_exp = np.cumsum(var_exp)\n",
        "\n",
        "# Representamos en un diagrama de barras la varianza explicada por cada autovalor, y la acumulada\n",
        "with plt.style.context('seaborn-pastel'):\n",
        "    plt.figure(figsize=(7,5))\n",
        "\n",
        "    plt.bar(range(7), var_exp, alpha=0.5, align='center',label='Varianza individual explicada', color='m')\n",
        "    plt.step(range(7), cum_var_exp, where='mid', linestyle='--', label='Varianza explicada acumulada')\n",
        "    plt.ylabel('Varianza Explicada(%)')\n",
        "    plt.xlabel('C P')\n",
        "    plt.legend(loc='center')\n",
        "    plt.tight_layout()\n",
        "    plt.grid()"
      ],
      "execution_count": 92,
      "outputs": [
        {
          "output_type": "display_data",
          "data": {
            "image/png": "[encoded data removed]",
            "text/plain": [
              "<Figure size 504x360 with 1 Axes>"
            ]
          },
          "metadata": {
            "tags": [],
            "needs_background": "light"
          }
        }
      ]
    },
    {
      "cell_type": "code",
      "metadata": {
        "id": "LHuLqkOuKVSA",
        "colab_type": "code",
        "colab": {}
      },
      "source": [
        "#6.Proyecto el dataset original sobre el nuevo espacio reducido.\n",
        "#Generamos la matríz a partir de los pares autovalor-autovector\n",
        "matrix_w = np.hstack((eig_pairs[0][1].reshape(4,1),\n",
        "                      eig_pairs[1][1].reshape(4,1)))\n",
        "\n",
        "print('Matriz W:\\n', matrix_w)\n",
        "\n",
        "Y = X_std.dot(matrix_w)"
      ],
      "execution_count": null,
      "outputs": []
    },
    {
      "cell_type": "code",
      "metadata": {
        "id": "pxjbiYqbOGXp",
        "colab_type": "code",
        "colab": {
          "base_uri": "https://localhost:8080/",
          "height": 50
        },
        "outputId": "663202b3-f3a5-4d9c-c070-df8e2f60dbe2"
      },
      "source": [
        "eig_pairs[0][1]"
      ],
      "execution_count": 94,
      "outputs": [
        {
          "output_type": "execute_result",
          "data": {
            "text/plain": [
              "array([0.39422048, 0.40263318, 0.43649823, 0.33770523, 0.42201621,\n",
              "       0.03193256, 0.44585181])"
            ]
          },
          "metadata": {
            "tags": []
          },
          "execution_count": 94
        }
      ]
    },
    {
      "cell_type": "code",
      "metadata": {
        "id": "ZbattgcBOIlJ",
        "colab_type": "code",
        "colab": {
          "base_uri": "https://localhost:8080/",
          "height": 50
        },
        "outputId": "a1eca681-e95c-4fa5-eee0-3c1ceecc32b6"
      },
      "source": [
        "eig_pairs[1][1]"
      ],
      "execution_count": 95,
      "outputs": [
        {
          "output_type": "execute_result",
          "data": {
            "text/plain": [
              "array([ 0.27216274, -0.30120325, -0.14481552,  0.41976495, -0.23738226,\n",
              "        0.76225979,  0.02528969])"
            ]
          },
          "metadata": {
            "tags": []
          },
          "execution_count": 95
        }
      ]
    },
    {
      "cell_type": "code",
      "metadata": {
        "id": "2I54B4l5OPwO",
        "colab_type": "code",
        "colab": {}
      },
      "source": [
        "\n",
        "#Generamos la matríz a partir de los pares autovalor-autovector.\n",
        "#Seleccioné los 2 autovalores más altos\n",
        "matrix_w = np.hstack((eig_pairs[0][1].reshape(7,1),\n",
        "                      eig_pairs[1][1].reshape(7,1)))\n",
        "\n",
        "CP = X_std.dot(matrix_w)"
      ],
      "execution_count": 102,
      "outputs": []
    },
    {
      "cell_type": "code",
      "metadata": {
        "id": "wbLP6eccORqt",
        "colab_type": "code",
        "colab": {
          "base_uri": "https://localhost:8080/",
          "height": 368
        },
        "outputId": "481fa7c1-cf33-4fe1-d757-892a097a196f"
      },
      "source": [
        "with plt.style.context('seaborn-whitegrid'):\n",
        "    plt.figure(figsize=(5, 5))\n",
        "    for lab, col in zip(('muy alto', 'alto', 'medio'),('magenta', 'cyan', 'limegreen')):\n",
        "        plt.scatter(CP[y==lab, 0], CP[y==lab, 1],label=lab,c=col)\n",
        "        \n",
        "    plt.xlabel('CP 1')\n",
        "    plt.ylabel('CP 2')\n",
        "    plt.legend(loc='lower center')\n",
        "    plt.tight_layout()\n",
        "    plt.show()"
      ],
      "execution_count": 110,
      "outputs": [
        {
          "output_type": "display_data",
          "data": {
            "image/png": "[encoded data removed]",
            "text/plain": [
              "<Figure size 360x360 with 1 Axes>"
            ]
          },
          "metadata": {
            "tags": []
          }
        }
      ]
    }
  ]
}