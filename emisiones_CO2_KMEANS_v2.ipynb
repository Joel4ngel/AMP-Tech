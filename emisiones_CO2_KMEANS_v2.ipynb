{
  "nbformat": 4,
  "nbformat_minor": 0,
  "metadata": {
    "colab": {
      "name": "emisiones_CO2_KMEANS.ipynb",
      "provenance": [],
      "collapsed_sections": [],
      "mount_file_id": "13KM4q2vsIeNx2NVmVlw-a6DSUJv4YiRl",
      "authorship_tag": "ABX9TyN7OZ1MX6ALszSwV+wQFktd",
      "include_colab_link": true
    },
    "kernelspec": {
      "name": "python3",
      "display_name": "Python 3"
    }
  },
  "cells": [
    {
      "cell_type": "markdown",
      "metadata": {
        "id": "view-in-github",
        "colab_type": "text"
      },
      "source": [
        "<a href=\"https://colab.research.google.com/github/Joel4ngel/AMP-Tech/blob/master/emisiones_CO2_KMEANS_v2.ipynb\" target=\"_parent\"><img src=\"https://colab.research.google.com/assets/colab-badge.svg\" alt=\"Open In Colab\"/></a>"
      ]
    },
    {
      "cell_type": "code",
      "metadata": {
        "id": "cR4wC0nv7JgR",
        "colab_type": "code",
        "colab": {}
      },
      "source": [
        "#Autor: Joel Taquía\n",
        "\n",
        "#Llamo las librias que usaré\n",
        "import pandas as pd\n",
        "import numpy as np\n",
        "import matplotlib.pyplot as plt\n",
        "#from sklearn.decomposition import PCA\n",
        "from sklearn.preprocessing import StandardScaler \n",
        "%matplotlib inline\n",
        "\n",
        "#1. Cargo la data que previamente lo subi a mi DRIVE\n",
        "ruta= '//content//drive//My Drive//Colab Notebooks//emision_co2.csv'\n",
        "\n",
        "df = pd.read_csv(ruta,sep=';',)\n",
        "\n",
        "#Elimino la ultima columna,pues la ultima columna del csv se guardo con ';'\n",
        "df=df.drop(df.columns[-1], axis='columns')\n"
      ],
      "execution_count": 1,
      "outputs": []
    },
    {
      "cell_type": "code",
      "metadata": {
        "id": "HoPUQSER82PV",
        "colab_type": "code",
        "colab": {}
      },
      "source": [
        "#2.\tSelecciono las variables que usaré en el PCA (no hay una variable ind. eso es lo que se quiere obtener,la etiqueta)\n",
        "X = df.iloc[:,2:9] "
      ],
      "execution_count": 2,
      "outputs": []
    },
    {
      "cell_type": "code",
      "metadata": {
        "id": "YBb2xK0jBcX7",
        "colab_type": "code",
        "colab": {
          "base_uri": "https://localhost:8080/",
          "height": 204
        },
        "outputId": "9dd4490d-24cd-4cf1-b796-6d3c52eb968c"
      },
      "source": [
        "X.head() #5 primeros datos."
      ],
      "execution_count": 3,
      "outputs": [
        {
          "output_type": "execute_result",
          "data": {
            "text/html": [
              "<div>\n",
              "<style scoped>\n",
              "    .dataframe tbody tr th:only-of-type {\n",
              "        vertical-align: middle;\n",
              "    }\n",
              "\n",
              "    .dataframe tbody tr th {\n",
              "        vertical-align: top;\n",
              "    }\n",
              "\n",
              "    .dataframe thead th {\n",
              "        text-align: right;\n",
              "    }\n",
              "</style>\n",
              "<table border=\"1\" class=\"dataframe\">\n",
              "  <thead>\n",
              "    <tr style=\"text-align: right;\">\n",
              "      <th></th>\n",
              "      <th>construccion</th>\n",
              "      <th>industrias</th>\n",
              "      <th>otros combustibles</th>\n",
              "      <th>transporte</th>\n",
              "      <th>manufacturacion</th>\n",
              "      <th>fugas</th>\n",
              "      <th>energia</th>\n",
              "    </tr>\n",
              "  </thead>\n",
              "  <tbody>\n",
              "    <tr>\n",
              "      <th>0</th>\n",
              "      <td>457.2</td>\n",
              "      <td>714.80</td>\n",
              "      <td>186.0</td>\n",
              "      <td>686.1</td>\n",
              "      <td>3029.8</td>\n",
              "      <td>0.00</td>\n",
              "      <td>4455.4</td>\n",
              "    </tr>\n",
              "    <tr>\n",
              "      <th>1</th>\n",
              "      <td>460.6</td>\n",
              "      <td>35.27</td>\n",
              "      <td>46.1</td>\n",
              "      <td>1597.5</td>\n",
              "      <td>438.6</td>\n",
              "      <td>11.93</td>\n",
              "      <td>2360.2</td>\n",
              "    </tr>\n",
              "    <tr>\n",
              "      <th>2</th>\n",
              "      <td>486.9</td>\n",
              "      <td>53.74</td>\n",
              "      <td>63.1</td>\n",
              "      <td>753.0</td>\n",
              "      <td>377.9</td>\n",
              "      <td>1.86</td>\n",
              "      <td>1289.8</td>\n",
              "    </tr>\n",
              "    <tr>\n",
              "      <th>3</th>\n",
              "      <td>96.6</td>\n",
              "      <td>101.40</td>\n",
              "      <td>57.1</td>\n",
              "      <td>219.2</td>\n",
              "      <td>433.0</td>\n",
              "      <td>1.91</td>\n",
              "      <td>995.1</td>\n",
              "    </tr>\n",
              "    <tr>\n",
              "      <th>4</th>\n",
              "      <td>122.4</td>\n",
              "      <td>26.25</td>\n",
              "      <td>14.1</td>\n",
              "      <td>237.3</td>\n",
              "      <td>169.4</td>\n",
              "      <td>32.66</td>\n",
              "      <td>1007.7</td>\n",
              "    </tr>\n",
              "  </tbody>\n",
              "</table>\n",
              "</div>"
            ],
            "text/plain": [
              "   construccion  industrias  ...  fugas  energia\n",
              "0         457.2      714.80  ...   0.00   4455.4\n",
              "1         460.6       35.27  ...  11.93   2360.2\n",
              "2         486.9       53.74  ...   1.86   1289.8\n",
              "3          96.6      101.40  ...   1.91    995.1\n",
              "4         122.4       26.25  ...  32.66   1007.7\n",
              "\n",
              "[5 rows x 7 columns]"
            ]
          },
          "metadata": {
            "tags": []
          },
          "execution_count": 3
        }
      ]
    },
    {
      "cell_type": "code",
      "metadata": {
        "id": "Z7qgT9k6cJ72",
        "colab_type": "code",
        "colab": {
          "base_uri": "https://localhost:8080/",
          "height": 297
        },
        "outputId": "896f5aee-24db-47f9-c4fd-6ae6f15bbfbe"
      },
      "source": [
        "X.describe()"
      ],
      "execution_count": 4,
      "outputs": [
        {
          "output_type": "execute_result",
          "data": {
            "text/html": [
              "<div>\n",
              "<style scoped>\n",
              "    .dataframe tbody tr th:only-of-type {\n",
              "        vertical-align: middle;\n",
              "    }\n",
              "\n",
              "    .dataframe tbody tr th {\n",
              "        vertical-align: top;\n",
              "    }\n",
              "\n",
              "    .dataframe thead th {\n",
              "        text-align: right;\n",
              "    }\n",
              "</style>\n",
              "<table border=\"1\" class=\"dataframe\">\n",
              "  <thead>\n",
              "    <tr style=\"text-align: right;\">\n",
              "      <th></th>\n",
              "      <th>construccion</th>\n",
              "      <th>industrias</th>\n",
              "      <th>otros combustibles</th>\n",
              "      <th>transporte</th>\n",
              "      <th>manufacturacion</th>\n",
              "      <th>fugas</th>\n",
              "      <th>energia</th>\n",
              "    </tr>\n",
              "  </thead>\n",
              "  <tbody>\n",
              "    <tr>\n",
              "      <th>count</th>\n",
              "      <td>60.000000</td>\n",
              "      <td>60.000000</td>\n",
              "      <td>60.000000</td>\n",
              "      <td>60.000000</td>\n",
              "      <td>60.00000</td>\n",
              "      <td>60.000000</td>\n",
              "      <td>60.000000</td>\n",
              "    </tr>\n",
              "    <tr>\n",
              "      <th>mean</th>\n",
              "      <td>49.626667</td>\n",
              "      <td>22.494167</td>\n",
              "      <td>10.531667</td>\n",
              "      <td>106.546667</td>\n",
              "      <td>106.84500</td>\n",
              "      <td>3.424333</td>\n",
              "      <td>261.493333</td>\n",
              "    </tr>\n",
              "    <tr>\n",
              "      <th>std</th>\n",
              "      <td>103.055667</td>\n",
              "      <td>92.311740</td>\n",
              "      <td>26.078717</td>\n",
              "      <td>237.159882</td>\n",
              "      <td>394.68706</td>\n",
              "      <td>7.496758</td>\n",
              "      <td>666.722179</td>\n",
              "    </tr>\n",
              "    <tr>\n",
              "      <th>min</th>\n",
              "      <td>0.300000</td>\n",
              "      <td>0.000000</td>\n",
              "      <td>0.000000</td>\n",
              "      <td>5.100000</td>\n",
              "      <td>1.30000</td>\n",
              "      <td>0.000000</td>\n",
              "      <td>15.100000</td>\n",
              "    </tr>\n",
              "    <tr>\n",
              "      <th>25%</th>\n",
              "      <td>5.125000</td>\n",
              "      <td>2.112500</td>\n",
              "      <td>0.850000</td>\n",
              "      <td>16.025000</td>\n",
              "      <td>11.02500</td>\n",
              "      <td>0.000000</td>\n",
              "      <td>32.675000</td>\n",
              "    </tr>\n",
              "    <tr>\n",
              "      <th>50%</th>\n",
              "      <td>14.150000</td>\n",
              "      <td>4.315000</td>\n",
              "      <td>3.600000</td>\n",
              "      <td>34.200000</td>\n",
              "      <td>29.35000</td>\n",
              "      <td>0.245000</td>\n",
              "      <td>63.750000</td>\n",
              "    </tr>\n",
              "    <tr>\n",
              "      <th>75%</th>\n",
              "      <td>42.275000</td>\n",
              "      <td>15.160000</td>\n",
              "      <td>9.400000</td>\n",
              "      <td>105.600000</td>\n",
              "      <td>62.05000</td>\n",
              "      <td>2.007500</td>\n",
              "      <td>171.025000</td>\n",
              "    </tr>\n",
              "    <tr>\n",
              "      <th>max</th>\n",
              "      <td>486.900000</td>\n",
              "      <td>714.800000</td>\n",
              "      <td>186.000000</td>\n",
              "      <td>1597.500000</td>\n",
              "      <td>3029.80000</td>\n",
              "      <td>32.660000</td>\n",
              "      <td>4455.400000</td>\n",
              "    </tr>\n",
              "  </tbody>\n",
              "</table>\n",
              "</div>"
            ],
            "text/plain": [
              "       construccion  industrias  ...      fugas      energia\n",
              "count     60.000000   60.000000  ...  60.000000    60.000000\n",
              "mean      49.626667   22.494167  ...   3.424333   261.493333\n",
              "std      103.055667   92.311740  ...   7.496758   666.722179\n",
              "min        0.300000    0.000000  ...   0.000000    15.100000\n",
              "25%        5.125000    2.112500  ...   0.000000    32.675000\n",
              "50%       14.150000    4.315000  ...   0.245000    63.750000\n",
              "75%       42.275000   15.160000  ...   2.007500   171.025000\n",
              "max      486.900000  714.800000  ...  32.660000  4455.400000\n",
              "\n",
              "[8 rows x 7 columns]"
            ]
          },
          "metadata": {
            "tags": []
          },
          "execution_count": 4
        }
      ]
    },
    {
      "cell_type": "markdown",
      "metadata": {
        "id": "gnhczqTdvbtA",
        "colab_type": "text"
      },
      "source": [
        "# **PCA**"
      ]
    },
    {
      "cell_type": "code",
      "metadata": {
        "id": "ElFBHsIxCTDp",
        "colab_type": "code",
        "colab": {}
      },
      "source": [
        "#3. Normalizo las variables\n",
        "#===========================\n",
        "from sklearn.preprocessing import StandardScaler\n",
        "Z = StandardScaler().fit_transform(X)"
      ],
      "execution_count": 5,
      "outputs": []
    },
    {
      "cell_type": "code",
      "metadata": {
        "id": "OhJj0VD0EJ3-",
        "colab_type": "code",
        "colab": {
          "base_uri": "https://localhost:8080/",
          "height": 266
        },
        "outputId": "2d8c884b-8ebc-4bc9-8418-5ef755cda09d"
      },
      "source": [
        "# Calculo la matriz de varianzas y covarianza\n",
        "cov_mat=np.cov(Z.T)\n",
        "pd.DataFrame(cov_mat)"
      ],
      "execution_count": 6,
      "outputs": [
        {
          "output_type": "execute_result",
          "data": {
            "text/html": [
              "<div>\n",
              "<style scoped>\n",
              "    .dataframe tbody tr th:only-of-type {\n",
              "        vertical-align: middle;\n",
              "    }\n",
              "\n",
              "    .dataframe tbody tr th {\n",
              "        vertical-align: top;\n",
              "    }\n",
              "\n",
              "    .dataframe thead th {\n",
              "        text-align: right;\n",
              "    }\n",
              "</style>\n",
              "<table border=\"1\" class=\"dataframe\">\n",
              "  <thead>\n",
              "    <tr style=\"text-align: right;\">\n",
              "      <th></th>\n",
              "      <th>0</th>\n",
              "      <th>1</th>\n",
              "      <th>2</th>\n",
              "      <th>3</th>\n",
              "      <th>4</th>\n",
              "      <th>5</th>\n",
              "      <th>6</th>\n",
              "    </tr>\n",
              "  </thead>\n",
              "  <tbody>\n",
              "    <tr>\n",
              "      <th>0</th>\n",
              "      <td>1.016949</td>\n",
              "      <td>0.599876</td>\n",
              "      <td>0.796729</td>\n",
              "      <td>0.907334</td>\n",
              "      <td>0.680806</td>\n",
              "      <td>0.130058</td>\n",
              "      <td>0.871780</td>\n",
              "    </tr>\n",
              "    <tr>\n",
              "      <th>1</th>\n",
              "      <td>0.599876</td>\n",
              "      <td>1.016949</td>\n",
              "      <td>0.952578</td>\n",
              "      <td>0.400725</td>\n",
              "      <td>1.008847</td>\n",
              "      <td>-0.033699</td>\n",
              "      <td>0.890897</td>\n",
              "    </tr>\n",
              "    <tr>\n",
              "      <th>2</th>\n",
              "      <td>0.796729</td>\n",
              "      <td>0.952578</td>\n",
              "      <td>1.016949</td>\n",
              "      <td>0.616455</td>\n",
              "      <td>0.975546</td>\n",
              "      <td>-0.006527</td>\n",
              "      <td>0.958993</td>\n",
              "    </tr>\n",
              "    <tr>\n",
              "      <th>3</th>\n",
              "      <td>0.907334</td>\n",
              "      <td>0.400725</td>\n",
              "      <td>0.616455</td>\n",
              "      <td>1.016949</td>\n",
              "      <td>0.498685</td>\n",
              "      <td>0.170850</td>\n",
              "      <td>0.775867</td>\n",
              "    </tr>\n",
              "    <tr>\n",
              "      <th>4</th>\n",
              "      <td>0.680806</td>\n",
              "      <td>1.008847</td>\n",
              "      <td>0.975546</td>\n",
              "      <td>0.498685</td>\n",
              "      <td>1.016949</td>\n",
              "      <td>-0.015654</td>\n",
              "      <td>0.939005</td>\n",
              "    </tr>\n",
              "    <tr>\n",
              "      <th>5</th>\n",
              "      <td>0.130058</td>\n",
              "      <td>-0.033699</td>\n",
              "      <td>-0.006527</td>\n",
              "      <td>0.170850</td>\n",
              "      <td>-0.015654</td>\n",
              "      <td>1.016949</td>\n",
              "      <td>0.093534</td>\n",
              "    </tr>\n",
              "    <tr>\n",
              "      <th>6</th>\n",
              "      <td>0.871780</td>\n",
              "      <td>0.890897</td>\n",
              "      <td>0.958993</td>\n",
              "      <td>0.775867</td>\n",
              "      <td>0.939005</td>\n",
              "      <td>0.093534</td>\n",
              "      <td>1.016949</td>\n",
              "    </tr>\n",
              "  </tbody>\n",
              "</table>\n",
              "</div>"
            ],
            "text/plain": [
              "          0         1         2         3         4         5         6\n",
              "0  1.016949  0.599876  0.796729  0.907334  0.680806  0.130058  0.871780\n",
              "1  0.599876  1.016949  0.952578  0.400725  1.008847 -0.033699  0.890897\n",
              "2  0.796729  0.952578  1.016949  0.616455  0.975546 -0.006527  0.958993\n",
              "3  0.907334  0.400725  0.616455  1.016949  0.498685  0.170850  0.775867\n",
              "4  0.680806  1.008847  0.975546  0.498685  1.016949 -0.015654  0.939005\n",
              "5  0.130058 -0.033699 -0.006527  0.170850 -0.015654  1.016949  0.093534\n",
              "6  0.871780  0.890897  0.958993  0.775867  0.939005  0.093534  1.016949"
            ]
          },
          "metadata": {
            "tags": []
          },
          "execution_count": 6
        }
      ]
    },
    {
      "cell_type": "code",
      "metadata": {
        "id": "39xVglxpEvev",
        "colab_type": "code",
        "colab": {}
      },
      "source": [
        "#4.Obtengo los autovectores y autovalores de la matriz de covarianza\n",
        "#====================================================================\n",
        "eig_vals, eig_vecs = np.linalg.eig(cov_mat)"
      ],
      "execution_count": 7,
      "outputs": []
    },
    {
      "cell_type": "code",
      "metadata": {
        "id": "Aql91kUKFkbT",
        "colab_type": "code",
        "colab": {
          "base_uri": "https://localhost:8080/",
          "height": 266
        },
        "outputId": "b89421f5-3d86-42cf-eda6-c1f5dfa3e20f"
      },
      "source": [
        "#AUTOVALORES ya ordenados\n",
        "pd.DataFrame(eig_vals)"
      ],
      "execution_count": 8,
      "outputs": [
        {
          "output_type": "execute_result",
          "data": {
            "text/html": [
              "<div>\n",
              "<style scoped>\n",
              "    .dataframe tbody tr th:only-of-type {\n",
              "        vertical-align: middle;\n",
              "    }\n",
              "\n",
              "    .dataframe tbody tr th {\n",
              "        vertical-align: top;\n",
              "    }\n",
              "\n",
              "    .dataframe thead th {\n",
              "        text-align: right;\n",
              "    }\n",
              "</style>\n",
              "<table border=\"1\" class=\"dataframe\">\n",
              "  <thead>\n",
              "    <tr style=\"text-align: right;\">\n",
              "      <th></th>\n",
              "      <th>0</th>\n",
              "    </tr>\n",
              "  </thead>\n",
              "  <tbody>\n",
              "    <tr>\n",
              "      <th>0</th>\n",
              "      <td>5.014361</td>\n",
              "    </tr>\n",
              "    <tr>\n",
              "      <th>1</th>\n",
              "      <td>1.180004</td>\n",
              "    </tr>\n",
              "    <tr>\n",
              "      <th>2</th>\n",
              "      <td>0.784299</td>\n",
              "    </tr>\n",
              "    <tr>\n",
              "      <th>3</th>\n",
              "      <td>0.092163</td>\n",
              "    </tr>\n",
              "    <tr>\n",
              "      <th>4</th>\n",
              "      <td>0.031250</td>\n",
              "    </tr>\n",
              "    <tr>\n",
              "      <th>5</th>\n",
              "      <td>0.014836</td>\n",
              "    </tr>\n",
              "    <tr>\n",
              "      <th>6</th>\n",
              "      <td>0.001730</td>\n",
              "    </tr>\n",
              "  </tbody>\n",
              "</table>\n",
              "</div>"
            ],
            "text/plain": [
              "          0\n",
              "0  5.014361\n",
              "1  1.180004\n",
              "2  0.784299\n",
              "3  0.092163\n",
              "4  0.031250\n",
              "5  0.014836\n",
              "6  0.001730"
            ]
          },
          "metadata": {
            "tags": []
          },
          "execution_count": 8
        }
      ]
    },
    {
      "cell_type": "code",
      "metadata": {
        "id": "MGrJy3cZWFqM",
        "colab_type": "code",
        "colab": {
          "base_uri": "https://localhost:8080/",
          "height": 266
        },
        "outputId": "8f31fbd0-25d5-44da-a581-525370cdd1b6"
      },
      "source": [
        "#AUTOVECTORES(filas)\n",
        "pd.DataFrame(eig_vecs)"
      ],
      "execution_count": 9,
      "outputs": [
        {
          "output_type": "execute_result",
          "data": {
            "text/html": [
              "<div>\n",
              "<style scoped>\n",
              "    .dataframe tbody tr th:only-of-type {\n",
              "        vertical-align: middle;\n",
              "    }\n",
              "\n",
              "    .dataframe tbody tr th {\n",
              "        vertical-align: top;\n",
              "    }\n",
              "\n",
              "    .dataframe thead th {\n",
              "        text-align: right;\n",
              "    }\n",
              "</style>\n",
              "<table border=\"1\" class=\"dataframe\">\n",
              "  <thead>\n",
              "    <tr style=\"text-align: right;\">\n",
              "      <th></th>\n",
              "      <th>0</th>\n",
              "      <th>1</th>\n",
              "      <th>2</th>\n",
              "      <th>3</th>\n",
              "      <th>4</th>\n",
              "      <th>5</th>\n",
              "      <th>6</th>\n",
              "    </tr>\n",
              "  </thead>\n",
              "  <tbody>\n",
              "    <tr>\n",
              "      <th>0</th>\n",
              "      <td>0.394220</td>\n",
              "      <td>0.272163</td>\n",
              "      <td>-0.354254</td>\n",
              "      <td>-0.723022</td>\n",
              "      <td>-0.336277</td>\n",
              "      <td>0.090464</td>\n",
              "      <td>0.031546</td>\n",
              "    </tr>\n",
              "    <tr>\n",
              "      <th>1</th>\n",
              "      <td>0.402633</td>\n",
              "      <td>-0.301203</td>\n",
              "      <td>0.342116</td>\n",
              "      <td>0.100254</td>\n",
              "      <td>-0.174592</td>\n",
              "      <td>0.419253</td>\n",
              "      <td>0.643283</td>\n",
              "    </tr>\n",
              "    <tr>\n",
              "      <th>2</th>\n",
              "      <td>0.436498</td>\n",
              "      <td>-0.144816</td>\n",
              "      <td>0.103748</td>\n",
              "      <td>-0.271321</td>\n",
              "      <td>0.824249</td>\n",
              "      <td>-0.154472</td>\n",
              "      <td>-0.029521</td>\n",
              "    </tr>\n",
              "    <tr>\n",
              "      <th>3</th>\n",
              "      <td>0.337705</td>\n",
              "      <td>0.419765</td>\n",
              "      <td>-0.513900</td>\n",
              "      <td>0.542596</td>\n",
              "      <td>0.200980</td>\n",
              "      <td>0.332747</td>\n",
              "      <td>0.011602</td>\n",
              "    </tr>\n",
              "    <tr>\n",
              "      <th>4</th>\n",
              "      <td>0.422016</td>\n",
              "      <td>-0.237382</td>\n",
              "      <td>0.258454</td>\n",
              "      <td>0.122625</td>\n",
              "      <td>-0.239177</td>\n",
              "      <td>0.241108</td>\n",
              "      <td>-0.753908</td>\n",
              "    </tr>\n",
              "    <tr>\n",
              "      <th>5</th>\n",
              "      <td>0.031933</td>\n",
              "      <td>0.762260</td>\n",
              "      <td>0.644828</td>\n",
              "      <td>-0.023980</td>\n",
              "      <td>0.031801</td>\n",
              "      <td>0.022049</td>\n",
              "      <td>-0.008015</td>\n",
              "    </tr>\n",
              "    <tr>\n",
              "      <th>6</th>\n",
              "      <td>0.445852</td>\n",
              "      <td>0.025290</td>\n",
              "      <td>0.001133</td>\n",
              "      <td>0.289052</td>\n",
              "      <td>-0.280072</td>\n",
              "      <td>-0.789203</td>\n",
              "      <td>0.125472</td>\n",
              "    </tr>\n",
              "  </tbody>\n",
              "</table>\n",
              "</div>"
            ],
            "text/plain": [
              "          0         1         2         3         4         5         6\n",
              "0  0.394220  0.272163 -0.354254 -0.723022 -0.336277  0.090464  0.031546\n",
              "1  0.402633 -0.301203  0.342116  0.100254 -0.174592  0.419253  0.643283\n",
              "2  0.436498 -0.144816  0.103748 -0.271321  0.824249 -0.154472 -0.029521\n",
              "3  0.337705  0.419765 -0.513900  0.542596  0.200980  0.332747  0.011602\n",
              "4  0.422016 -0.237382  0.258454  0.122625 -0.239177  0.241108 -0.753908\n",
              "5  0.031933  0.762260  0.644828 -0.023980  0.031801  0.022049 -0.008015\n",
              "6  0.445852  0.025290  0.001133  0.289052 -0.280072 -0.789203  0.125472"
            ]
          },
          "metadata": {
            "tags": []
          },
          "execution_count": 9
        }
      ]
    },
    {
      "cell_type": "code",
      "metadata": {
        "id": "hJE5dztuLbzj",
        "colab_type": "code",
        "colab": {
          "base_uri": "https://localhost:8080/",
          "height": 296
        },
        "outputId": "75da3049-238b-465f-e75a-8512e0169816"
      },
      "source": [
        "#Grafico de sedimentacion\n",
        "plt.plot(eig_vals,'go-')\n",
        "plt.ylabel('autovalor')\n",
        "plt.xlabel('número de componente')\n",
        "plt.title('Gráfico de sedimentacion')\n",
        "plt.grid()\n",
        "plt.show()"
      ],
      "execution_count": 10,
      "outputs": [
        {
          "output_type": "display_data",
          "data": {
            "image/png": "[encoded data removed]",
            "text/plain": [
              "<Figure size 432x288 with 1 Axes>"
            ]
          },
          "metadata": {
            "tags": [],
            "needs_background": "light"
          }
        }
      ]
    },
    {
      "cell_type": "code",
      "metadata": {
        "id": "Hf77Fs87Hhn0",
        "colab_type": "code",
        "colab": {
          "base_uri": "https://localhost:8080/",
          "height": 350
        },
        "outputId": "ed4775c5-ce80-4e46-b160-df438689e2b2"
      },
      "source": [
        "#Gráfico de varianza simples y acumuladas\n",
        "\n",
        "# A partir de los autovalores, calculamos la varianza explicada\n",
        "tot = sum(eig_vals)\n",
        "\n",
        "#varianza porcentual para cada autovalor\n",
        "var_exp = [(i/tot)*100 for i in eig_vals] #sorted(eig_vals, reverse=True)\n",
        "\n",
        "#Hago una suma acumulada\n",
        "cum_var_exp = np.cumsum(var_exp)\n",
        "\n",
        "# Representamos en un diagrama de barras la varianza explicada por cada autovalor y la acumulada\n",
        "with plt.style.context('seaborn-pastel'):\n",
        "    plt.figure(figsize=(7,5))\n",
        "\n",
        "    plt.bar(range(7), var_exp, align='center',label='var.explicada', color='b')\n",
        "    plt.step(range(7), cum_var_exp, where='mid', linestyle='--', label='var.explicada acumulada',color='r')\n",
        "    plt.ylabel('varianza Explicada (%)')\n",
        "    plt.xlabel('componente')\n",
        "    plt.legend(loc='center')\n",
        "    plt.title('Porcentaje de variacion explicado por cada componente')\n",
        "    plt.grid()"
      ],
      "execution_count": 11,
      "outputs": [
        {
          "output_type": "display_data",
          "data": {
            "image/png": "[encoded data removed]",
            "text/plain": [
              "<Figure size 504x360 with 1 Axes>"
            ]
          },
          "metadata": {
            "tags": [],
            "needs_background": "light"
          }
        }
      ]
    },
    {
      "cell_type": "code",
      "metadata": {
        "id": "x-qRLA66MzQi",
        "colab_type": "code",
        "colab": {
          "base_uri": "https://localhost:8080/",
          "height": 266
        },
        "outputId": "6de03695-ee62-4b49-a799-adb88f0652e3"
      },
      "source": [
        "#Resumen de las varianzas\n",
        "data={'Yi':[i for i in range(1,8)],'autovalores':eig_vals,'vza.explic(%)':var_exp,'vza.explic.acum.(%)':cum_var_exp}\n",
        "\n",
        "resumen=pd.DataFrame(data)\n",
        "blankIndex=[''] * len(resumen)\n",
        "resumen.index=blankIndex\n",
        "resumen"
      ],
      "execution_count": 12,
      "outputs": [
        {
          "output_type": "execute_result",
          "data": {
            "text/html": [
              "<div>\n",
              "<style scoped>\n",
              "    .dataframe tbody tr th:only-of-type {\n",
              "        vertical-align: middle;\n",
              "    }\n",
              "\n",
              "    .dataframe tbody tr th {\n",
              "        vertical-align: top;\n",
              "    }\n",
              "\n",
              "    .dataframe thead th {\n",
              "        text-align: right;\n",
              "    }\n",
              "</style>\n",
              "<table border=\"1\" class=\"dataframe\">\n",
              "  <thead>\n",
              "    <tr style=\"text-align: right;\">\n",
              "      <th></th>\n",
              "      <th>Yi</th>\n",
              "      <th>autovalores</th>\n",
              "      <th>vza.explic(%)</th>\n",
              "      <th>vza.explic.acum.(%)</th>\n",
              "    </tr>\n",
              "  </thead>\n",
              "  <tbody>\n",
              "    <tr>\n",
              "      <th></th>\n",
              "      <td>1</td>\n",
              "      <td>5.014361</td>\n",
              "      <td>70.439829</td>\n",
              "      <td>70.439829</td>\n",
              "    </tr>\n",
              "    <tr>\n",
              "      <th></th>\n",
              "      <td>2</td>\n",
              "      <td>1.180004</td>\n",
              "      <td>16.576252</td>\n",
              "      <td>87.016082</td>\n",
              "    </tr>\n",
              "    <tr>\n",
              "      <th></th>\n",
              "      <td>3</td>\n",
              "      <td>0.784299</td>\n",
              "      <td>11.017536</td>\n",
              "      <td>98.033618</td>\n",
              "    </tr>\n",
              "    <tr>\n",
              "      <th></th>\n",
              "      <td>4</td>\n",
              "      <td>0.092163</td>\n",
              "      <td>1.294668</td>\n",
              "      <td>99.328286</td>\n",
              "    </tr>\n",
              "    <tr>\n",
              "      <th></th>\n",
              "      <td>5</td>\n",
              "      <td>0.031250</td>\n",
              "      <td>0.438992</td>\n",
              "      <td>99.767278</td>\n",
              "    </tr>\n",
              "    <tr>\n",
              "      <th></th>\n",
              "      <td>6</td>\n",
              "      <td>0.014836</td>\n",
              "      <td>0.208417</td>\n",
              "      <td>99.975695</td>\n",
              "    </tr>\n",
              "    <tr>\n",
              "      <th></th>\n",
              "      <td>7</td>\n",
              "      <td>0.001730</td>\n",
              "      <td>0.024305</td>\n",
              "      <td>100.000000</td>\n",
              "    </tr>\n",
              "  </tbody>\n",
              "</table>\n",
              "</div>"
            ],
            "text/plain": [
              "  Yi  autovalores  vza.explic(%)  vza.explic.acum.(%)\n",
              "   1     5.014361      70.439829            70.439829\n",
              "   2     1.180004      16.576252            87.016082\n",
              "   3     0.784299      11.017536            98.033618\n",
              "   4     0.092163       1.294668            99.328286\n",
              "   5     0.031250       0.438992            99.767278\n",
              "   6     0.014836       0.208417            99.975695\n",
              "   7     0.001730       0.024305           100.000000"
            ]
          },
          "metadata": {
            "tags": []
          },
          "execution_count": 12
        }
      ]
    },
    {
      "cell_type": "markdown",
      "metadata": {
        "id": "BZa6DIAJWQll",
        "colab_type": "text"
      },
      "source": [
        "# **PROYECCIONES**\n",
        "**TOMANDO 2 DIMENSIONES** : 87% de variabilidad"
      ]
    },
    {
      "cell_type": "code",
      "metadata": {
        "id": "LHuLqkOuKVSA",
        "colab_type": "code",
        "colab": {
          "base_uri": "https://localhost:8080/",
          "height": 283
        },
        "outputId": "8b0a11e5-365c-4ae1-8cf7-0e76a7acd77e"
      },
      "source": [
        "#5.Selecciono los 2 autovectores más grandes correspondientes a sus CP\n",
        "\n",
        "# El 1er y 2do autovalor los coloco en una matriz Base: B\n",
        "B = np.array([eig_vecs[0],eig_vecs[1]])\n",
        "\n",
        "# Las nuevas variables obtenidas de dimension: 60x2\n",
        "Y = Z.dot(B.T)\n",
        "\n",
        "print('Matriz Base:')\n",
        "pd.DataFrame(B.T)"
      ],
      "execution_count": 13,
      "outputs": [
        {
          "output_type": "stream",
          "text": [
            "Matriz Base:\n"
          ],
          "name": "stdout"
        },
        {
          "output_type": "execute_result",
          "data": {
            "text/html": [
              "<div>\n",
              "<style scoped>\n",
              "    .dataframe tbody tr th:only-of-type {\n",
              "        vertical-align: middle;\n",
              "    }\n",
              "\n",
              "    .dataframe tbody tr th {\n",
              "        vertical-align: top;\n",
              "    }\n",
              "\n",
              "    .dataframe thead th {\n",
              "        text-align: right;\n",
              "    }\n",
              "</style>\n",
              "<table border=\"1\" class=\"dataframe\">\n",
              "  <thead>\n",
              "    <tr style=\"text-align: right;\">\n",
              "      <th></th>\n",
              "      <th>0</th>\n",
              "      <th>1</th>\n",
              "    </tr>\n",
              "  </thead>\n",
              "  <tbody>\n",
              "    <tr>\n",
              "      <th>0</th>\n",
              "      <td>0.394220</td>\n",
              "      <td>0.402633</td>\n",
              "    </tr>\n",
              "    <tr>\n",
              "      <th>1</th>\n",
              "      <td>0.272163</td>\n",
              "      <td>-0.301203</td>\n",
              "    </tr>\n",
              "    <tr>\n",
              "      <th>2</th>\n",
              "      <td>-0.354254</td>\n",
              "      <td>0.342116</td>\n",
              "    </tr>\n",
              "    <tr>\n",
              "      <th>3</th>\n",
              "      <td>-0.723022</td>\n",
              "      <td>0.100254</td>\n",
              "    </tr>\n",
              "    <tr>\n",
              "      <th>4</th>\n",
              "      <td>-0.336277</td>\n",
              "      <td>-0.174592</td>\n",
              "    </tr>\n",
              "    <tr>\n",
              "      <th>5</th>\n",
              "      <td>0.090464</td>\n",
              "      <td>0.419253</td>\n",
              "    </tr>\n",
              "    <tr>\n",
              "      <th>6</th>\n",
              "      <td>0.031546</td>\n",
              "      <td>0.643283</td>\n",
              "    </tr>\n",
              "  </tbody>\n",
              "</table>\n",
              "</div>"
            ],
            "text/plain": [
              "          0         1\n",
              "0  0.394220  0.402633\n",
              "1  0.272163 -0.301203\n",
              "2 -0.354254  0.342116\n",
              "3 -0.723022  0.100254\n",
              "4 -0.336277 -0.174592\n",
              "5  0.090464  0.419253\n",
              "6  0.031546  0.643283"
            ]
          },
          "metadata": {
            "tags": []
          },
          "execution_count": 13
        }
      ]
    },
    {
      "cell_type": "code",
      "metadata": {
        "id": "3nk8xbWeeQ8S",
        "colab_type": "code",
        "colab": {
          "base_uri": "https://localhost:8080/",
          "height": 204
        },
        "outputId": "f380ad70-b5e7-41f4-ab46-0d2cea30c3bc"
      },
      "source": [
        "#Componentes principales y su cetegoria\n",
        "W=pd.DataFrame(Y, columns=['pc1', 'pc2'])\n",
        "W.head()"
      ],
      "execution_count": 14,
      "outputs": [
        {
          "output_type": "execute_result",
          "data": {
            "text/html": [
              "<div>\n",
              "<style scoped>\n",
              "    .dataframe tbody tr th:only-of-type {\n",
              "        vertical-align: middle;\n",
              "    }\n",
              "\n",
              "    .dataframe tbody tr th {\n",
              "        vertical-align: top;\n",
              "    }\n",
              "\n",
              "    .dataframe thead th {\n",
              "        text-align: right;\n",
              "    }\n",
              "</style>\n",
              "<table border=\"1\" class=\"dataframe\">\n",
              "  <thead>\n",
              "    <tr style=\"text-align: right;\">\n",
              "      <th></th>\n",
              "      <th>pc1</th>\n",
              "      <th>pc2</th>\n",
              "    </tr>\n",
              "  </thead>\n",
              "  <tbody>\n",
              "    <tr>\n",
              "      <th>0</th>\n",
              "      <td>-2.907810</td>\n",
              "      <td>4.479806</td>\n",
              "    </tr>\n",
              "    <tr>\n",
              "      <th>1</th>\n",
              "      <td>-3.529065</td>\n",
              "      <td>5.057005</td>\n",
              "    </tr>\n",
              "    <tr>\n",
              "      <th>2</th>\n",
              "      <td>-1.130707</td>\n",
              "      <td>3.382422</td>\n",
              "    </tr>\n",
              "    <tr>\n",
              "      <th>3</th>\n",
              "      <td>-0.832115</td>\n",
              "      <td>1.072419</td>\n",
              "    </tr>\n",
              "    <tr>\n",
              "      <th>4</th>\n",
              "      <td>0.178653</td>\n",
              "      <td>2.724244</td>\n",
              "    </tr>\n",
              "  </tbody>\n",
              "</table>\n",
              "</div>"
            ],
            "text/plain": [
              "        pc1       pc2\n",
              "0 -2.907810  4.479806\n",
              "1 -3.529065  5.057005\n",
              "2 -1.130707  3.382422\n",
              "3 -0.832115  1.072419\n",
              "4  0.178653  2.724244"
            ]
          },
          "metadata": {
            "tags": []
          },
          "execution_count": 14
        }
      ]
    },
    {
      "cell_type": "code",
      "metadata": {
        "id": "D1L9qIRsY_9y",
        "colab_type": "code",
        "colab": {
          "base_uri": "https://localhost:8080/",
          "height": 409
        },
        "outputId": "f26389a1-4c7c-4501-e453-1ae633c492cb"
      },
      "source": [
        "#Proyeccion reducida a 2D con sus categorias\n",
        "fig = plt.figure(figsize = (10,6))\n",
        "ax = fig.add_subplot(1,1,1)\n",
        "\n",
        "ax.scatter(W.iloc[:,0], W.iloc[:,1])#, c = color) W.iloc[:,0:2]\n",
        "\n",
        "ax.set_xlabel('PC1')\n",
        "ax.set_ylabel('PC2')\n",
        "ax.set_title('2-PC', fontsize = 20)\n",
        "ax.grid()"
      ],
      "execution_count": 15,
      "outputs": [
        {
          "output_type": "display_data",
          "data": {
            "image/png": "[encoded data removed]",
            "text/plain": [
              "<Figure size 720x432 with 1 Axes>"
            ]
          },
          "metadata": {
            "tags": [],
            "needs_background": "light"
          }
        }
      ]
    },
    {
      "cell_type": "markdown",
      "metadata": {
        "id": "chU44C4hgVvB",
        "colab_type": "text"
      },
      "source": [
        "# **CLUSTERIZACION CON K-MEANS**\n",
        "================================="
      ]
    },
    {
      "cell_type": "code",
      "metadata": {
        "id": "QcTuu6u0a4Zd",
        "colab_type": "code",
        "colab": {
          "base_uri": "https://localhost:8080/",
          "height": 204
        },
        "outputId": "903abd6d-1128-4a1f-a8c0-7bfa90a5a924"
      },
      "source": [
        "#1 Selecciono las variables PC para segmentar\n",
        "x1=W.iloc[:,0:2]\n",
        "x1.head()"
      ],
      "execution_count": 16,
      "outputs": [
        {
          "output_type": "execute_result",
          "data": {
            "text/html": [
              "<div>\n",
              "<style scoped>\n",
              "    .dataframe tbody tr th:only-of-type {\n",
              "        vertical-align: middle;\n",
              "    }\n",
              "\n",
              "    .dataframe tbody tr th {\n",
              "        vertical-align: top;\n",
              "    }\n",
              "\n",
              "    .dataframe thead th {\n",
              "        text-align: right;\n",
              "    }\n",
              "</style>\n",
              "<table border=\"1\" class=\"dataframe\">\n",
              "  <thead>\n",
              "    <tr style=\"text-align: right;\">\n",
              "      <th></th>\n",
              "      <th>pc1</th>\n",
              "      <th>pc2</th>\n",
              "    </tr>\n",
              "  </thead>\n",
              "  <tbody>\n",
              "    <tr>\n",
              "      <th>0</th>\n",
              "      <td>-2.907810</td>\n",
              "      <td>4.479806</td>\n",
              "    </tr>\n",
              "    <tr>\n",
              "      <th>1</th>\n",
              "      <td>-3.529065</td>\n",
              "      <td>5.057005</td>\n",
              "    </tr>\n",
              "    <tr>\n",
              "      <th>2</th>\n",
              "      <td>-1.130707</td>\n",
              "      <td>3.382422</td>\n",
              "    </tr>\n",
              "    <tr>\n",
              "      <th>3</th>\n",
              "      <td>-0.832115</td>\n",
              "      <td>1.072419</td>\n",
              "    </tr>\n",
              "    <tr>\n",
              "      <th>4</th>\n",
              "      <td>0.178653</td>\n",
              "      <td>2.724244</td>\n",
              "    </tr>\n",
              "  </tbody>\n",
              "</table>\n",
              "</div>"
            ],
            "text/plain": [
              "        pc1       pc2\n",
              "0 -2.907810  4.479806\n",
              "1 -3.529065  5.057005\n",
              "2 -1.130707  3.382422\n",
              "3 -0.832115  1.072419\n",
              "4  0.178653  2.724244"
            ]
          },
          "metadata": {
            "tags": []
          },
          "execution_count": 16
        }
      ]
    },
    {
      "cell_type": "code",
      "metadata": {
        "id": "CqxAi_4ef5OX",
        "colab_type": "code",
        "colab": {}
      },
      "source": [
        "#Hallaré, suma de dist.cuadradas dentro del clúster\n",
        "from sklearn.cluster import KMeans\n",
        "wcss=[]\n",
        "#1.Llamo el algortimo k-means y le paso la data x1 para cada cluster,itero 10 veces\n",
        "\n",
        "for i in range(1,11): \n",
        "     kmeans = KMeans(n_clusters=i, init ='k-means++', max_iter=50,n_init=10, random_state=0)\n",
        "     #Entreno el modelo\n",
        "     kmeans.fit(x1)\n",
        "     wcss.append(kmeans.inertia_)\n",
        "     ## wcss: almacena la suma de distancias cuadradas de las obs. a su centroide por cada iteracion"
      ],
      "execution_count": 17,
      "outputs": []
    },
    {
      "cell_type": "code",
      "metadata": {
        "id": "uq3iOd-Jis5k",
        "colab_type": "code",
        "colab": {
          "base_uri": "https://localhost:8080/",
          "height": 295
        },
        "outputId": "fbc02e80-6880-498c-98c0-bcff930f69b5"
      },
      "source": [
        "#Ploteo el gráfico elbow-codo \n",
        "plt.plot(range(1,11),wcss,marker='*')\n",
        "plt.title('Método del codo')\n",
        "plt.xlabel('número de clusters')\n",
        "plt.ylabel('WCSS')\n",
        "plt.grid()\n",
        "plt.show()\n"
      ],
      "execution_count": 18,
      "outputs": [
        {
          "output_type": "display_data",
          "data": {
            "image/png": "[encoded data removed]",
            "text/plain": [
              "<Figure size 432x288 with 1 Axes>"
            ]
          },
          "metadata": {
            "tags": [],
            "needs_background": "light"
          }
        }
      ]
    },
    {
      "cell_type": "code",
      "metadata": {
        "id": "1XvKDrytlo1W",
        "colab_type": "code",
        "colab": {
          "base_uri": "https://localhost:8080/",
          "height": 68
        },
        "outputId": "63c579a3-9420-46da-c721-1ee33b369a18"
      },
      "source": [
        "#Uso el algortimo Kmeans con 3 clusters, según mi elección del gráfico anterior.\n",
        "kmeans = KMeans(n_clusters=3, init ='k-means++', max_iter=300, n_init=10,random_state=0 )\n",
        "\n",
        "#Ahora para cada obs le asigno su etiqueta.\n",
        "y_kmeans = kmeans.fit_predict(x1)\n",
        "y_kmeans"
      ],
      "execution_count": 19,
      "outputs": [
        {
          "output_type": "execute_result",
          "data": {
            "text/plain": [
              "array([1, 1, 2, 2, 2, 0, 0, 0, 2, 0, 0, 0, 0, 0, 0, 0, 0, 0, 0, 0, 0, 0,\n",
              "       0, 0, 0, 0, 0, 0, 0, 0, 0, 0, 0, 0, 0, 0, 0, 0, 0, 0, 0, 0, 0, 0,\n",
              "       0, 0, 0, 0, 0, 0, 0, 0, 0, 0, 0, 0, 0, 0, 0, 0], dtype=int32)"
            ]
          },
          "metadata": {
            "tags": []
          },
          "execution_count": 19
        }
      ]
    },
    {
      "cell_type": "code",
      "metadata": {
        "id": "5hBfgJdFmUMA",
        "colab_type": "code",
        "colab": {}
      },
      "source": [
        "#Agrego la variable 'nivel' de etiquetas, la llamo x2\n",
        "x2=pd.concat([x1,pd.DataFrame(y_kmeans)], axis=1)\n",
        "x2.columns=['pc1','pc2','nivel']"
      ],
      "execution_count": 20,
      "outputs": []
    },
    {
      "cell_type": "code",
      "metadata": {
        "id": "HgpLb_eSkv8v",
        "colab_type": "code",
        "colab": {
          "base_uri": "https://localhost:8080/",
          "height": 404
        },
        "outputId": "c11cd566-3d7e-4904-80ad-a10c4196bdae"
      },
      "source": [
        "#Ploteo cada observacion de x2 con  sus respectivos clusters y centroides.\n",
        "fig = plt.figure(figsize = (10,6))\n",
        "ax = fig.add_subplot(1,1,1)\n",
        "\n",
        "targets = x2['nivel'].unique()#['muy alto', 'alto', 'medio']\n",
        "colors = ['r', 'g', 'cyan']\n",
        "for target, color in zip(targets,colors):\n",
        "  indice = x2['nivel'] == target\n",
        "  ax.scatter(x2.loc[indice, 'pc1'], x2.loc[indice,'pc2'], c = color)\n",
        "\n",
        "#for pais,x,y in zip(df['codigo'],x2['pc1'],x2['pc2']):\n",
        "#  ax.text(x,y,pais,size=8)\n",
        "\n",
        "plt.scatter(kmeans.cluster_centers_[:, 0], kmeans.cluster_centers_[:, 1],marker='*', s=200, c='y', label = 'centroide')\n",
        "\n",
        "plt.title('Clusters de países contaminantes de CO2')\n",
        "plt.xlabel('pc1')\n",
        "plt.ylabel('pc2')\n",
        "plt.legend(targets)\n",
        "plt.grid()\n",
        "plt.show()\n"
      ],
      "execution_count": 21,
      "outputs": [
        {
          "output_type": "display_data",
          "data": {
            "image/png": "[encoded data removed]",
            "text/plain": [
              "<Figure size 720x432 with 1 Axes>"
            ]
          },
          "metadata": {
            "tags": [],
            "needs_background": "light"
          }
        }
      ]
    },
    {
      "cell_type": "code",
      "metadata": {
        "id": "uYk387ivlJb8",
        "colab_type": "code",
        "colab": {}
      },
      "source": [
        ""
      ],
      "execution_count": 21,
      "outputs": []
    }
  ]
}